{
 "cells": [
  {
   "cell_type": "markdown",
   "id": "0b61ecb1-667e-44fb-861a-16072faa60b5",
   "metadata": {},
   "source": [
    "# Organising Committee Indentifier\n",
    "\n",
    "This is a first prototype an identifier for a conference organiser.\n",
    "\n",
    "Steps:\n",
    "1. Extracting information from the Call for Papers\n",
    "2. Identifying organisers in OpenAlex\n",
    "3. Locating conference or event on the main databases (such as DBLP, AIDA Dashboard, or [ConfIDent](https://www.confident-conference.org/index.php/Category:Event_Series))"
   ]
  },
  {
   "cell_type": "code",
   "execution_count": 3,
   "id": "cc067f5d-ee8f-4b14-a3e1-341f8dce4704",
   "metadata": {},
   "outputs": [],
   "source": [
    "from IPython.core.display import JSON\n",
    "import json\n",
    "import pandas as pd"
   ]
  },
  {
   "cell_type": "code",
   "execution_count": 4,
   "id": "d8a89c88-4ee7-4437-a05f-4420890657f6",
   "metadata": {},
   "outputs": [],
   "source": [
    "import configparser\n",
    "config = configparser.ConfigParser()\n",
    "config.read('config.ini')\n",
    "topsecret = config['DEFAULT']['api_key']"
   ]
  },
  {
   "cell_type": "code",
   "execution_count": 5,
   "id": "ae47b420-b38a-4f08-af36-a86ea21a508b",
   "metadata": {},
   "outputs": [],
   "source": [
    "from openai import OpenAI\n",
    "client = OpenAI(\n",
    "  base_url=\"https://openrouter.ai/api/v1\",\n",
    "  api_key=topsecret,\n",
    ")"
   ]
  },
  {
   "cell_type": "markdown",
   "id": "22949fdc-87aa-4027-a9c4-ca6cf65370cd",
   "metadata": {},
   "source": [
    "# Reading CfP and creating prompt"
   ]
  },
  {
   "cell_type": "code",
   "execution_count": 32,
   "id": "23a5c1a9-4d60-4071-a762-ce55ff0bf55d",
   "metadata": {
    "scrolled": true
   },
   "outputs": [],
   "source": [
    "SOURCE = 'cfps'\n",
    "CFP = 'semantics2024.txt'\n",
    "with open(f'{SOURCE}/{CFP}','r') as fr:\n",
    "    call_for_papers = fr.read()\n",
    "# print(call_for_papers)"
   ]
  },
  {
   "cell_type": "code",
   "execution_count": 33,
   "id": "dff3e265-e3a2-4673-bc5d-a4fcea2c7194",
   "metadata": {},
   "outputs": [],
   "source": [
    "text_prompt = f\"\"\"In this prompt, you will receive a Call for Papers of a scientific event. Your task is to parse it, and identify some crucial elements:\n",
    "\n",
    "- the event name and its acronym;\n",
    "- the location of the event\n",
    "- the organisers of the event\n",
    "\n",
    "<call_for_papers>\n",
    "{call_for_papers}\n",
    "</call_for_papers>\"\"\"\n",
    "# print(text_prompt)"
   ]
  },
  {
   "cell_type": "code",
   "execution_count": 34,
   "id": "bef3d0c6-c0aa-47cc-bdea-08eaf8c43372",
   "metadata": {},
   "outputs": [],
   "source": [
    "true = True\n",
    "false = False\n",
    "extra_headers={\n",
    "\"HTTP-Referer\": \"https://skm.kmi.open.ac.uk\", # Optional. Site URL for rankings on openrouter.ai.\n",
    "\"X-Title\": \"SKM Team at OU\", # Optional. Site title for rankings on openrouter.ai.\n",
    "}\n",
    "model=\"openai/gpt-4o\"\n",
    "messages= [\n",
    "{ \"role\": \"user\", \"content\": text_prompt }\n",
    "]\n",
    "response_format={\n",
    "\"type\": \"json_schema\",\n",
    "\"json_schema\": {\n",
    "  \"name\": \"organising_committe_of_conference\",\n",
    "  \"strict\": true,\n",
    "  \"schema\": {\n",
    "    \"type\": \"object\",\n",
    "    \"properties\": {\n",
    "      \"event_name\": {\n",
    "        \"type\": \"string\",\n",
    "        \"description\": \"Name of the workshop or conference. This identifies the extended name of the event.\"\n",
    "      },\n",
    "      \"conference_series\": {\n",
    "        \"type\": \"string\",\n",
    "        \"description\": \"This refers to the name of a conference series, which is a collection of events that happen on a regular basis. It's usually similar to the event's name, but without the edition number or the year.\"\n",
    "      },\n",
    "      \"event_acronym\": {\n",
    "        \"type\": \"string\",\n",
    "        \"description\": \"Acronym of the workshop or conference. This identifies the acronym name of the event.\"\n",
    "      },\n",
    "      \"colocated_with\": {\n",
    "        \"type\": \"string\",\n",
    "        \"description\": \"If the name of the event is co-located with another big event. Otherwise if empty.\"\n",
    "      },\n",
    "      \"location\": {\n",
    "        \"type\": \"string\",\n",
    "        \"description\": \"City or location name\"\n",
    "      },\n",
    "      \"organisers\": {\n",
    "        \"type\": \"array\",\n",
    "        \"items\": {\n",
    "                \"type\": \"object\",\n",
    "                \"properties\": {\n",
    "                    \"organiser_name\": {\n",
    "                        \"type\": \"string\",\n",
    "                        \"description\": \"The organiser name.\"\n",
    "                    },\n",
    "                    \"organiser_affiliation\": {\n",
    "                        \"type\": \"string\",\n",
    "                        \"description\": \"The institution (affiliation) of the organiser. This can be either a university or a company.\"\n",
    "                    },\n",
    "                    \"organiser_country\": {\n",
    "                        \"type\": \"string\",\n",
    "                        \"description\": \"The institution country of the organiser. This information is not always available.\"\n",
    "                    },\n",
    "                    \"track_name\": {\n",
    "                        \"type\": \"string\",\n",
    "                        \"description\": \"This identifies the main track in which the organiser is involved. A conference may have several tracks, whereas a workshop may have one single track. As default you shall use 'main'.\"\n",
    "                    }\n",
    "                },\n",
    "            \"required\": [\"organiser_name\", \"organiser_affiliation\", \"organiser_country\", \"track_name\"],\n",
    "            \"additionalProperties\": false\n",
    "            },\n",
    "        \"description\": \"Identifies the name, affiliation (ideally including country) of the conference organisers and the name of the track they organise.\"\n",
    "      }\n",
    "    },\n",
    "    \"required\": [\"event_name\", \"event_acronym\", \"conference_series\", \"colocated_with\", \"location\", \"organisers\"],\n",
    "    \"additionalProperties\": false\n",
    "  }\n",
    "}\n",
    "}"
   ]
  },
  {
   "cell_type": "markdown",
   "id": "3c36c6f6-3597-4bf9-949e-cac7ebe4e004",
   "metadata": {},
   "source": [
    "# Running the extraction"
   ]
  },
  {
   "cell_type": "code",
   "execution_count": 35,
   "id": "343c97b3-b39e-45b3-b903-092fd5234b8b",
   "metadata": {},
   "outputs": [],
   "source": [
    "completion = client.chat.completions.create(extra_headers=extra_headers, \n",
    "                                            model=model, \n",
    "                                            messages=messages, \n",
    "                                            response_format=response_format)\n",
    "\n",
    "# JSON(completion.choices[0].message.content)"
   ]
  },
  {
   "cell_type": "code",
   "execution_count": 36,
   "id": "7d8a0b5c-2c77-4a5e-8354-12a78b5196f8",
   "metadata": {},
   "outputs": [
    {
     "data": {
      "application/json": {
       "colocated_with": "",
       "conference_series": "International Conference on Semantic Systems",
       "event_acronym": "SEMANTiCS 2024",
       "event_name": "20th International Conference on Semantic Systems",
       "location": "Amsterdam, The Netherlands",
       "organisers": [
        {
         "organiser_affiliation": "",
         "organiser_country": "",
         "organiser_name": "Mehwish Alam",
         "track_name": "Research and Innovation"
        },
        {
         "organiser_affiliation": "",
         "organiser_country": "",
         "organiser_name": "Femke Ongenae",
         "track_name": "Research and Innovation"
        },
        {
         "organiser_affiliation": "",
         "organiser_country": "",
         "organiser_name": "Angelo Salatino",
         "track_name": "Research and Innovation"
        }
       ]
      },
      "text/plain": [
       "<IPython.core.display.JSON object>"
      ]
     },
     "execution_count": 36,
     "metadata": {
      "application/json": {
       "expanded": false,
       "root": "root"
      }
     },
     "output_type": "execute_result"
    }
   ],
   "source": [
    "result = json.loads(completion.choices[0].message.content)\n",
    "JSON(result)"
   ]
  },
  {
   "cell_type": "markdown",
   "id": "8160d3d7-c03b-4652-b3c5-54129efefe54",
   "metadata": {},
   "source": [
    "# Find Organisers on OpenAlex"
   ]
  },
  {
   "cell_type": "code",
   "execution_count": 38,
   "id": "7d7d9a41-35b5-48da-918c-70db7f221c41",
   "metadata": {},
   "outputs": [],
   "source": [
    "from pyalex import config\n",
    "from pyalex import Authors, Institutions\n",
    "import logging\n",
    "from rapidfuzz import fuzz\n",
    "from rapidfuzz.distance import Levenshtein\n",
    "\n",
    "config.email = \"angelo.salatino@open.ac.uk\"\n",
    "config.max_retries = 0\n",
    "config.retry_backoff_factor = 0.1\n",
    "config.retry_http_codes = [429, 500, 503]"
   ]
  },
  {
   "cell_type": "code",
   "execution_count": 47,
   "id": "c8e5fb7f-1198-474f-9bb6-66035bc8e8e8",
   "metadata": {},
   "outputs": [],
   "source": [
    "def get_authors_info_from_openalex(organisers:list)->list:\n",
    "    \"\"\"\n",
    "    \n",
    "    This is a convoluted algorithm. \n",
    "    First it attempts a double filtering (institution + authorname), for a more precise outcome.\n",
    "    However, as in many cases it fails (affiliations in CfP are not similar to the institution name in OpenAlex), \n",
    "    we simply retrieve author info based on their name, and try to find the correct authors within the returned pool.\n",
    "    \n",
    "    \n",
    "\n",
    "    Parameters\n",
    "    ----------\n",
    "    organisers : list\n",
    "        list of organisers.\n",
    "\n",
    "    Returns\n",
    "    -------\n",
    "    list\n",
    "        the same list of organisers with augmented information from OpenAlex.\n",
    "\n",
    "    \"\"\"\n",
    "\n",
    "    ### First we attempt to located the organiser by finding their affiliation, and filtering them by affiliation\n",
    "    ### Second attempt is made when the affiliation is not clear.\n",
    "    \n",
    "    \n",
    "    DEBUG = False\n",
    "    for organiser in organisers:\n",
    "        \n",
    "        organiser[\"openalex_name\"] = \"\"\n",
    "        organiser[\"openalex_page\"] = \"\"\n",
    "        organiser[\"orcid\"] = \"\"\n",
    "        organiser[\"affiliation_ror\"] = \"\"\n",
    "        \n",
    "        find_author_with_less_info = False\n",
    "        orga = {}\n",
    "        if len(organiser[\"organiser_affiliation\"]) > 0:\n",
    "            # Search for the institution and then filtering\n",
    "            insts = Institutions().search(organiser[\"organiser_affiliation\"]).get()\n",
    "            if len(insts) > 0:\n",
    "                inst_id = insts[0][\"id\"].replace(\"https://openalex.org/\", \"\")\n",
    "        \n",
    "                if \"ror\" in insts[0][\"ids\"]:\n",
    "                    organiser[\"affiliation_ror\"] = insts[0][\"ids\"][\"ror\"]\n",
    "                \n",
    "                # Search for the author within the institution\n",
    "                auths = Authors().search(organiser[\"organiser_name\"]).filter(affiliations={\"institution\":{\"id\": inst_id}}).get()\n",
    "                if len(auths) > 0:        \n",
    "                    if DEBUG: print(f\"{len(auths)} search results found for the author\")\n",
    "                    orga = auths[0]\n",
    "                else:\n",
    "                    find_author_with_less_info = True\n",
    "                    if DEBUG: print(f\"For {organiser['organiser_name']} I could not find a record\")\n",
    "                \n",
    "                    \n",
    "            else:\n",
    "                find_author_with_less_info = True\n",
    "                if DEBUG: print(f\"For {organiser['organiser_name']} I could not find a record of their institution\")\n",
    "        else:\n",
    "            find_author_with_less_info = True\n",
    "            if DEBUG: print(f\"For {organiser['organiser_name']} there is no affiliation\")\n",
    "    \n",
    "        # Search for authors without institution info\n",
    "        if find_author_with_less_info:\n",
    "            auths = Authors().search(organiser['organiser_name']).get()\n",
    "            if len(auths) == 1:\n",
    "                orga = auths[0]\n",
    "            elif len(auths) == 0:\n",
    "                if DEBUG: print(f\"For {organiser['organiser_name']} I could not find a record, AGAIN\")\n",
    "            else:\n",
    "                if DEBUG: print(f\"Found multiple records for {organiser['organiser_name']}\")\n",
    "                new_auths = sorted(auths, key=lambda item: item['works_count'], reverse=True)\n",
    "    \n",
    "                # this algorithm makes sure we match the author with the most similar name\n",
    "                max_similarity = 0\n",
    "                final_position = -1\n",
    "                for author_position, new_auth in enumerate(new_auths):\n",
    "                    all_alternative_names = new_auth[\"display_name_alternatives\"]\n",
    "                    for alternative_name in all_alternative_names:\n",
    "                        author_similarity = Levenshtein.normalized_similarity(alternative_name,organiser['organiser_name'])\n",
    "                        if author_similarity > max_similarity:\n",
    "                            if DEBUG: print(f\"{alternative_name}; {author_position}; {author_similarity}\")\n",
    "                            max_similarity = author_similarity\n",
    "                            final_position = author_position\n",
    "    \n",
    "                orga = new_auths[final_position]\n",
    "    \n",
    "        if len(orga) > 0:\n",
    "            organiser[\"openalex_name\"] = orga[\"display_name\"]\n",
    "            organiser[\"openalex_page\"] = orga[\"id\"]\n",
    "            organiser[\"orcid\"] = orga[\"orcid\"]\n",
    "            if len(organiser[\"organiser_affiliation\"]) > 0:\n",
    "                if organiser[\"affiliation_ror\"] == \"\":\n",
    "                    last_known_institutions = orga[\"last_known_institutions\"]\n",
    "                    max_similarity = 0\n",
    "                    final_position = -1\n",
    "                    for institution_position, last_known_institution in enumerate(last_known_institutions):\n",
    "                        institute_name = last_known_institution[\"display_name\"]\n",
    "                        institution_similarity = fuzz.token_set_ratio(institute_name,organiser[\"organiser_affiliation\"])\n",
    "                        if institution_similarity > max_similarity:\n",
    "                            if DEBUG: print(f\"{institute_name}; {institution_position}; {institution_similarity}\")\n",
    "                            max_similarity = institution_similarity\n",
    "                            final_position = institution_position\n",
    "                    if max_similarity >= 40:        \n",
    "                        organiser_institution_from_OA = last_known_institutions[final_position]\n",
    "                        organiser[\"affiliation_ror\"] = organiser_institution_from_OA[\"ror\"]\n",
    "    \n",
    "    return organisers\n",
    "\n",
    "result[\"organisers\"] = get_authors_info_from_openalex(result[\"organisers\"])"
   ]
  },
  {
   "cell_type": "code",
   "execution_count": 48,
   "id": "9719aad9-e68d-419e-9568-52bc78ff3251",
   "metadata": {},
   "outputs": [
    {
     "data": {
      "application/json": [
       {
        "affiliation_ror": "",
        "openalex_name": "Mehwish Alam",
        "openalex_page": "https://openalex.org/A5009026163",
        "orcid": "https://orcid.org/0000-0002-7867-6612",
        "organiser_affiliation": "",
        "organiser_country": "",
        "organiser_name": "Mehwish Alam",
        "track_name": "Research and Innovation"
       },
       {
        "affiliation_ror": "",
        "openalex_name": "Femke Ongenae",
        "openalex_page": "https://openalex.org/A5008111431",
        "orcid": "https://orcid.org/0000-0003-2529-5477",
        "organiser_affiliation": "",
        "organiser_country": "",
        "organiser_name": "Femke Ongenae",
        "track_name": "Research and Innovation"
       },
       {
        "affiliation_ror": "",
        "openalex_name": "Angelo A. Salatino",
        "openalex_page": "https://openalex.org/A5074395069",
        "orcid": "https://orcid.org/0000-0002-4763-3943",
        "organiser_affiliation": "",
        "organiser_country": "",
        "organiser_name": "Angelo Salatino",
        "track_name": "Research and Innovation"
       }
      ],
      "text/plain": [
       "<IPython.core.display.JSON object>"
      ]
     },
     "execution_count": 48,
     "metadata": {
      "application/json": {
       "expanded": false,
       "root": "root"
      }
     },
     "output_type": "execute_result"
    }
   ],
   "source": [
    "JSON(result[\"organisers\"])"
   ]
  },
  {
   "cell_type": "code",
   "execution_count": 16,
   "id": "87e9d62c-c941-48d8-85f6-40a7839d0feb",
   "metadata": {},
   "outputs": [
    {
     "data": {
      "application/json": {
       "AIDA": {
        "id": "semweb",
        "name": "International Semantic Web Conference (ISWC)",
        "url": "http://aida-dashboard.unica.it:8080/cs/conference/International%20Semantic%20Web%20Conference%20%28ISWC%29"
       },
       "DBLP": {
        "id": "semweb",
        "name": "International Semantic Web Conference (ISWC)",
        "url": "https://dblp.org/streams/conf/semweb"
       },
       "colocated_with": "",
       "conference_series": "International Semantic Web Conference",
       "event_acronym": "ISWC 2025",
       "event_name": "24th International Semantic Web Conference",
       "location": "Nara, Japan",
       "organisers": [
        {
         "affiliation_ror": "https://ror.org/03n6nwv02",
         "openalex_name": "Daniel Garijo",
         "openalex_page": "https://openalex.org/A5033224077",
         "orcid": "https://orcid.org/0000-0003-0454-7145",
         "organiser_affiliation": "Universidad Polit\\u00e9cnica de Madrid",
         "organiser_country": "Spain",
         "organiser_name": "Daniel Garijo",
         "track_name": "Research"
        },
        {
         "affiliation_ror": "https://ror.org/03yn8s215",
         "openalex_name": "Sabrina Kirrane",
         "openalex_page": "https://openalex.org/A5084740363",
         "orcid": "https://orcid.org/0000-0002-6955-7718",
         "organiser_affiliation": "Vienna University of Economics and Business",
         "organiser_country": "Austria",
         "organiser_name": "Sabrina Kirrane",
         "track_name": "Research"
        },
        {
         "affiliation_ror": "https://ror.org/04qk6pt94",
         "openalex_name": "Cogan Shimizu",
         "openalex_page": "https://openalex.org/A5073404100",
         "orcid": "https://orcid.org/0000-0003-4283-8701",
         "organiser_affiliation": "Wright State University",
         "organiser_country": "US",
         "organiser_name": "Cogan Shimizu",
         "track_name": "Resource"
        },
        {
         "openalex_name": "Angelo A. Salatino",
         "openalex_page": "https://openalex.org/A5074395069",
         "orcid": "https://orcid.org/0000-0002-4763-3943",
         "organiser_affiliation": "KMi, The Open University",
         "organiser_country": "UK",
         "organiser_name": "Angelo Salatino",
         "track_name": "Resource"
        },
        {
         "affiliation_ror": "https://ror.org/02kkvpp62",
         "openalex_name": "Maribel Acosta",
         "openalex_page": "https://openalex.org/A5091892854",
         "orcid": "https://orcid.org/0000-0002-1209-2868",
         "organiser_affiliation": "Technical University of Munich",
         "organiser_country": "Germany",
         "organiser_name": "Maribel Acosta",
         "track_name": "In-Use"
        },
        {
         "openalex_name": "Andrea Giovanni Nuzzolese",
         "openalex_page": "https://openalex.org/A5035126139",
         "orcid": "https://orcid.org/0000-0003-2928-9496",
         "organiser_affiliation": "CNR - Institute of Cognitive Sciences and Technologies",
         "organiser_country": "Italy",
         "organiser_name": "Andrea Giovanni Nuzzolese",
         "track_name": "In-Use"
        },
        {
         "affiliation_ror": "https://ror.org/01rxvg760",
         "openalex_name": "Gong Cheng",
         "openalex_page": "https://openalex.org/A5012491649",
         "orcid": "https://orcid.org/0000-0001-9322-9354",
         "organiser_affiliation": "Nanjing University",
         "organiser_country": "China",
         "organiser_name": "Gong Cheng",
         "track_name": "Posters and Demos"
        },
        {
         "affiliation_ror": "https://ror.org/006hf6230",
         "openalex_name": "Shenghui Wang",
         "openalex_page": "https://openalex.org/A5065278736",
         "orcid": "https://orcid.org/0000-0003-0583-6969",
         "organiser_affiliation": "University of Twente",
         "organiser_country": "The Netherlands",
         "organiser_name": "Shenghui Wang",
         "track_name": "Posters and Demos"
        },
        {
         "affiliation_ror": "https://ror.org/03taz7m60",
         "openalex_name": "Mayank Kejriwal",
         "openalex_page": "https://openalex.org/A5074197492",
         "orcid": "https://orcid.org/0000-0001-5988-8305",
         "organiser_affiliation": "University of Southern California",
         "organiser_country": "United States",
         "organiser_name": "Mayank Kejriwal",
         "track_name": "Challenges"
        },
        {
         "openalex_name": "Lu\\u00eds Silva",
         "openalex_page": "https://openalex.org/A5016662553",
         "orcid": "https://orcid.org/0000-0002-3434-6056",
         "organiser_affiliation": "Upwork",
         "organiser_country": "United States",
         "organiser_name": "Pablo Mendes",
         "track_name": "Challenges"
        },
        {
         "affiliation_ror": "https://ror.org/01ynf4891",
         "openalex_name": "Blerina Spahiu",
         "openalex_page": "https://openalex.org/A5088767562",
         "orcid": "https://orcid.org/0000-0002-6958-8215",
         "organiser_affiliation": "University of Milano-Bicocca",
         "organiser_country": "Italy",
         "organiser_name": "Blerina Spahiu",
         "track_name": "Workshops and Tutorials"
        },
        {
         "openalex_name": "Juan Sequeda",
         "openalex_page": "https://openalex.org/A5014287041",
         "orcid": "https://orcid.org/0000-0003-3112-9299",
         "organiser_affiliation": "data.world",
         "organiser_country": "USA",
         "organiser_name": "Juan Sequeda",
         "track_name": "Workshops and Tutorials"
        },
        {
         "affiliation_ror": "https://ror.org/0265w5591",
         "openalex_name": "Oktie Hassanzadeh",
         "openalex_page": "https://openalex.org/A5068065546",
         "orcid": "https://orcid.org/0000-0001-5307-9857",
         "organiser_affiliation": "IBM Research",
         "organiser_country": "US",
         "organiser_name": "Oktie Hassanzadeh",
         "track_name": "Industry"
        },
        {
         "affiliation_ror": "https://ror.org/046bfkz44",
         "openalex_name": "Irene Celino",
         "openalex_page": "https://openalex.org/A5054444380",
         "orcid": "https://orcid.org/0000-0001-9962-7193",
         "organiser_affiliation": "Cefriel",
         "organiser_country": "Italy",
         "organiser_name": "Irene Celino",
         "track_name": "Industry"
        },
        {
         "affiliation_ror": "https://ror.org/02crff812",
         "openalex_name": "Abraham Bernstein",
         "openalex_page": "https://openalex.org/A5073592405",
         "orcid": "https://orcid.org/0000-0002-0128-4602",
         "organiser_affiliation": "University of Zurich",
         "organiser_country": "Switzerland",
         "organiser_name": "Abraham Bernstein",
         "track_name": "Doctoral Consortium"
        },
        {
         "openalex_name": "Natasha Noy",
         "openalex_page": "https://openalex.org/A5041421536",
         "orcid": "https://orcid.org/0000-0002-7437-0624",
         "organiser_affiliation": "Google Research",
         "organiser_country": "US",
         "organiser_name": "Natasha Noy",
         "track_name": "Doctoral Consortium"
        }
       ]
      },
      "text/plain": [
       "<IPython.core.display.JSON object>"
      ]
     },
     "execution_count": 16,
     "metadata": {
      "application/json": {
       "expanded": false,
       "root": "root"
      }
     },
     "output_type": "execute_result"
    }
   ],
   "source": [
    "JSON(result)"
   ]
  },
  {
   "cell_type": "code",
   "execution_count": 49,
   "id": "5a03de44-4d27-4829-9692-366d7afbc3ef",
   "metadata": {},
   "outputs": [
    {
     "data": {
      "text/html": [
       "<div>\n",
       "<style scoped>\n",
       "    .dataframe tbody tr th:only-of-type {\n",
       "        vertical-align: middle;\n",
       "    }\n",
       "\n",
       "    .dataframe tbody tr th {\n",
       "        vertical-align: top;\n",
       "    }\n",
       "\n",
       "    .dataframe thead th {\n",
       "        text-align: right;\n",
       "    }\n",
       "</style>\n",
       "<table border=\"1\" class=\"dataframe\">\n",
       "  <thead>\n",
       "    <tr style=\"text-align: right;\">\n",
       "      <th></th>\n",
       "      <th>Name</th>\n",
       "      <th>Affiliation</th>\n",
       "      <th>Country</th>\n",
       "      <th>Track</th>\n",
       "      <th>OpenAlex Name</th>\n",
       "      <th>OpenAlex Profile</th>\n",
       "      <th>ORCID</th>\n",
       "      <th>ROR</th>\n",
       "    </tr>\n",
       "  </thead>\n",
       "  <tbody>\n",
       "    <tr>\n",
       "      <th>0</th>\n",
       "      <td>Mehwish Alam</td>\n",
       "      <td></td>\n",
       "      <td></td>\n",
       "      <td>Research and Innovation</td>\n",
       "      <td>Mehwish Alam</td>\n",
       "      <td>https://openalex.org/A5009026163</td>\n",
       "      <td>https://orcid.org/0000-0002-7867-6612</td>\n",
       "      <td></td>\n",
       "    </tr>\n",
       "    <tr>\n",
       "      <th>1</th>\n",
       "      <td>Femke Ongenae</td>\n",
       "      <td></td>\n",
       "      <td></td>\n",
       "      <td>Research and Innovation</td>\n",
       "      <td>Femke Ongenae</td>\n",
       "      <td>https://openalex.org/A5008111431</td>\n",
       "      <td>https://orcid.org/0000-0003-2529-5477</td>\n",
       "      <td></td>\n",
       "    </tr>\n",
       "    <tr>\n",
       "      <th>2</th>\n",
       "      <td>Angelo Salatino</td>\n",
       "      <td></td>\n",
       "      <td></td>\n",
       "      <td>Research and Innovation</td>\n",
       "      <td>Angelo A. Salatino</td>\n",
       "      <td>https://openalex.org/A5074395069</td>\n",
       "      <td>https://orcid.org/0000-0002-4763-3943</td>\n",
       "      <td></td>\n",
       "    </tr>\n",
       "  </tbody>\n",
       "</table>\n",
       "</div>"
      ],
      "text/plain": [
       "              Name Affiliation Country                    Track  \\\n",
       "0     Mehwish Alam                      Research and Innovation   \n",
       "1    Femke Ongenae                      Research and Innovation   \n",
       "2  Angelo Salatino                      Research and Innovation   \n",
       "\n",
       "        OpenAlex Name                  OpenAlex Profile  \\\n",
       "0        Mehwish Alam  https://openalex.org/A5009026163   \n",
       "1       Femke Ongenae  https://openalex.org/A5008111431   \n",
       "2  Angelo A. Salatino  https://openalex.org/A5074395069   \n",
       "\n",
       "                                   ORCID ROR  \n",
       "0  https://orcid.org/0000-0002-7867-6612      \n",
       "1  https://orcid.org/0000-0003-2529-5477      \n",
       "2  https://orcid.org/0000-0002-4763-3943      "
      ]
     },
     "execution_count": 49,
     "metadata": {},
     "output_type": "execute_result"
    }
   ],
   "source": [
    "organisers = pd.DataFrame.from_dict(result[\"organisers\"])\n",
    "organisers.rename(columns={\"organiser_name\": \"Name\",\n",
    "                          \"organiser_affiliation\": \"Affiliation\",\n",
    "                          \"organiser_country\": \"Country\",\n",
    "                          \"track_name\": \"Track\",\n",
    "                          \"affiliation_ror\": \"ROR\",\n",
    "                          \"openalex_page\": \"OpenAlex Profile\",\n",
    "                          \"orcid\": \"ORCID\",\n",
    "                          \"openalex_name\": \"OpenAlex Name\"\n",
    "                          })"
   ]
  },
  {
   "cell_type": "code",
   "execution_count": 65,
   "id": "dafc4c5f-7d32-465d-94c0-80568b3d0f3e",
   "metadata": {},
   "outputs": [
    {
     "data": {
      "text/html": [
       "<div>\n",
       "<style scoped>\n",
       "    .dataframe tbody tr th:only-of-type {\n",
       "        vertical-align: middle;\n",
       "    }\n",
       "\n",
       "    .dataframe tbody tr th {\n",
       "        vertical-align: top;\n",
       "    }\n",
       "\n",
       "    .dataframe thead th {\n",
       "        text-align: right;\n",
       "    }\n",
       "</style>\n",
       "<table border=\"1\" class=\"dataframe\">\n",
       "  <thead>\n",
       "    <tr style=\"text-align: right;\">\n",
       "      <th></th>\n",
       "      <th>organiser_name</th>\n",
       "      <th>track_name</th>\n",
       "      <th>openalex_name</th>\n",
       "      <th>openalex_page</th>\n",
       "      <th>orcid</th>\n",
       "    </tr>\n",
       "  </thead>\n",
       "  <tbody>\n",
       "    <tr>\n",
       "      <th>0</th>\n",
       "      <td>Mehwish Alam</td>\n",
       "      <td>Research and Innovation</td>\n",
       "      <td>Mehwish Alam</td>\n",
       "      <td>https://openalex.org/A5009026163</td>\n",
       "      <td>https://orcid.org/0000-0002-7867-6612</td>\n",
       "    </tr>\n",
       "    <tr>\n",
       "      <th>1</th>\n",
       "      <td>Femke Ongenae</td>\n",
       "      <td>Research and Innovation</td>\n",
       "      <td>Femke Ongenae</td>\n",
       "      <td>https://openalex.org/A5008111431</td>\n",
       "      <td>https://orcid.org/0000-0003-2529-5477</td>\n",
       "    </tr>\n",
       "    <tr>\n",
       "      <th>2</th>\n",
       "      <td>Angelo Salatino</td>\n",
       "      <td>Research and Innovation</td>\n",
       "      <td>Angelo A. Salatino</td>\n",
       "      <td>https://openalex.org/A5074395069</td>\n",
       "      <td>https://orcid.org/0000-0002-4763-3943</td>\n",
       "    </tr>\n",
       "  </tbody>\n",
       "</table>\n",
       "</div>"
      ],
      "text/plain": [
       "    organiser_name               track_name       openalex_name  \\\n",
       "0     Mehwish Alam  Research and Innovation        Mehwish Alam   \n",
       "1    Femke Ongenae  Research and Innovation       Femke Ongenae   \n",
       "2  Angelo Salatino  Research and Innovation  Angelo A. Salatino   \n",
       "\n",
       "                      openalex_page                                  orcid  \n",
       "0  https://openalex.org/A5009026163  https://orcid.org/0000-0002-7867-6612  \n",
       "1  https://openalex.org/A5008111431  https://orcid.org/0000-0003-2529-5477  \n",
       "2  https://openalex.org/A5074395069  https://orcid.org/0000-0002-4763-3943  "
      ]
     },
     "execution_count": 65,
     "metadata": {},
     "output_type": "execute_result"
    }
   ],
   "source": [
    "def check_series(x):\n",
    "    for i in x:\n",
    "        if len(i) > 0:\n",
    "            return True\n",
    "    return False\n",
    "\n",
    "final_list_columns = organisers.apply(lambda x: check_series(x), axis=0)\n",
    "organisers[final_list_columns[final_list_columns==True].index]\n"
   ]
  },
  {
   "cell_type": "markdown",
   "id": "084fca2a-9fef-48ee-bf1c-ecf88ebd26b4",
   "metadata": {},
   "source": [
    "# Find Event on major databases"
   ]
  },
  {
   "cell_type": "code",
   "execution_count": 13,
   "id": "87927356-2d18-432b-b7f9-87fb691f3bcf",
   "metadata": {},
   "outputs": [
    {
     "name": "stderr",
     "output_type": "stream",
     "text": [
      "/opt/anaconda3/envs/dev38/lib/python3.8/site-packages/sentence_transformers/cross_encoder/CrossEncoder.py:13: TqdmExperimentalWarning: Using `tqdm.autonotebook.tqdm` in notebook mode. Use `tqdm.tqdm` instead to force console mode (e.g. in jupyter console)\n",
      "  from tqdm.autonotebook import tqdm, trange\n"
     ]
    }
   ],
   "source": [
    "from sentence_transformers import SentenceTransformer\n",
    "import faiss  \n",
    "import pickle\n",
    "import urllib.parse\n",
    "\n",
    "# import re\n",
    "# regex = r'(\\d+st)|(\\d+nd)|(\\d+rd)|(\\d+th)'\n",
    "# result = re.sub(regex, \"\", result[\"event_name\"], 0, re.MULTILINE | re.IGNORECASE)\n",
    "\n",
    "# Load a pretrained Sentence Transformer model\n",
    "model = SentenceTransformer(\"all-MiniLM-L6-v2\")\n",
    "embeddings = model.encode([result[\"conference_series\"]])"
   ]
  },
  {
   "cell_type": "code",
   "execution_count": 14,
   "id": "f8ca00c2-a15b-4111-acfe-d1f275cf590e",
   "metadata": {},
   "outputs": [
    {
     "name": "stdout",
     "output_type": "stream",
     "text": [
      "International Semantic Web Conference (ISWC)\n",
      "semweb\n",
      "https://dblp.org/streams/conf/semweb\n"
     ]
    }
   ],
   "source": [
    "with open('DBLP.pickle', 'rb') as handle:\n",
    "    dblp_confs = pickle.load(handle)\n",
    "\n",
    "D, I = dblp_confs[\"index\"].search(embeddings, k=1)\n",
    "if D[0][0] <= 0.4:\n",
    "    this_conf = dblp_confs[\"sentences\"][I[0][0]]\n",
    "    this_acronym = dblp_confs[\"confs\"][this_conf]\n",
    "    print(this_conf)\n",
    "    print(this_acronym)\n",
    "    print(f\"https://dblp.org/streams/conf/{urllib.parse.quote(this_acronym, safe='')}\")"
   ]
  },
  {
   "cell_type": "code",
   "execution_count": 15,
   "id": "df671b9b-a1e0-4e15-ae2f-9976f012a719",
   "metadata": {},
   "outputs": [],
   "source": [
    "result[\"DBLP\"]=dict()\n",
    "result[\"DBLP\"][\"name\"]= this_conf\n",
    "result[\"DBLP\"][\"id\"]  = this_acronym\n",
    "result[\"DBLP\"][\"url\"] = f\"https://dblp.org/streams/conf/{urllib.parse.quote(this_acronym, safe='')}\""
   ]
  },
  {
   "cell_type": "code",
   "execution_count": 9,
   "id": "cf2493b9-7f89-4b27-ae5c-9b32e0bce559",
   "metadata": {},
   "outputs": [
    {
     "ename": "NameError",
     "evalue": "name 'pickle' is not defined",
     "output_type": "error",
     "traceback": [
      "\u001b[0;31m---------------------------------------------------------------------------\u001b[0m",
      "\u001b[0;31mNameError\u001b[0m                                 Traceback (most recent call last)",
      "Cell \u001b[0;32mIn[9], line 2\u001b[0m\n\u001b[1;32m      1\u001b[0m \u001b[38;5;28;01mwith\u001b[39;00m \u001b[38;5;28mopen\u001b[39m(\u001b[38;5;124m'\u001b[39m\u001b[38;5;124mAIDA.pickle\u001b[39m\u001b[38;5;124m'\u001b[39m, \u001b[38;5;124m'\u001b[39m\u001b[38;5;124mrb\u001b[39m\u001b[38;5;124m'\u001b[39m) \u001b[38;5;28;01mas\u001b[39;00m handle:\n\u001b[0;32m----> 2\u001b[0m     aida_confs \u001b[38;5;241m=\u001b[39m \u001b[43mpickle\u001b[49m\u001b[38;5;241m.\u001b[39mload(handle)\n\u001b[1;32m      4\u001b[0m D, I \u001b[38;5;241m=\u001b[39m aida_confs[\u001b[38;5;124m\"\u001b[39m\u001b[38;5;124mindex\u001b[39m\u001b[38;5;124m\"\u001b[39m]\u001b[38;5;241m.\u001b[39msearch(embeddings, k\u001b[38;5;241m=\u001b[39m\u001b[38;5;241m1\u001b[39m)\n\u001b[1;32m      5\u001b[0m \u001b[38;5;28;01mif\u001b[39;00m D[\u001b[38;5;241m0\u001b[39m][\u001b[38;5;241m0\u001b[39m] \u001b[38;5;241m<\u001b[39m\u001b[38;5;241m=\u001b[39m \u001b[38;5;241m0.4\u001b[39m:\n",
      "\u001b[0;31mNameError\u001b[0m: name 'pickle' is not defined"
     ]
    }
   ],
   "source": [
    "with open('AIDA.pickle', 'rb') as handle:\n",
    "    aida_confs = pickle.load(handle)\n",
    "\n",
    "D, I = aida_confs[\"index\"].search(embeddings, k=1)\n",
    "if D[0][0] <= 0.4:\n",
    "    this_conf_aida = aida_confs[\"sentences\"][I[0][0]]\n",
    "    this_acronym_aida = aida_confs[\"confs\"][this_conf_aida]\n",
    "    print(this_conf_aida)\n",
    "    print(this_acronym_aida)\n",
    "    print(f\"https://w3id.org/aida/dashboard/cs/conference/{urllib.parse.quote(this_conf_aida, safe='')}\")"
   ]
  },
  {
   "cell_type": "code",
   "execution_count": 17,
   "id": "12727dc2-bd6b-4a2a-aea0-c5e15d1e8778",
   "metadata": {},
   "outputs": [],
   "source": [
    "result[\"AIDA\"]=dict()\n",
    "result[\"AIDA\"][\"name\"]= this_conf_aida\n",
    "result[\"AIDA\"][\"id\"]  = this_acronym_aida\n",
    "result[\"AIDA\"][\"url\"] = f\"https://w3id.org/aida/dashboard/cs/conference/{urllib.parse.quote(this_conf_aida, safe='')}\""
   ]
  },
  {
   "cell_type": "code",
   "execution_count": 19,
   "id": "18cc71d6-5659-4ce7-b153-b39ba4cae5d3",
   "metadata": {},
   "outputs": [
    {
     "name": "stdout",
     "output_type": "stream",
     "text": [
      "International Semantic Web Conference\n",
      "Event Series:ISWC\n",
      "https://www.confident-conference.org/index.php/Event%20Series%3AISWC\n"
     ]
    }
   ],
   "source": [
    "with open('ConfIDent.pickle', 'rb') as handle:\n",
    "    confident_confs = pickle.load(handle)\n",
    "\n",
    "D, I = confident_confs[\"index\"].search(embeddings, k=1)\n",
    "if D[0][0] <= 0.4:\n",
    "    this_conf_confident = confident_confs[\"sentences\"][I[0][0]]\n",
    "    this_id_confident = confident_confs[\"confs\"][this_conf_confident]\n",
    "    print(this_conf_confident)\n",
    "    print(this_id_confident)\n",
    "    print(f\"https://www.confident-conference.org/index.php/{urllib.parse.quote(this_id_confident, safe='')}\")"
   ]
  },
  {
   "cell_type": "code",
   "execution_count": 20,
   "id": "e97b4749-a334-453a-8a26-5a08a12139ca",
   "metadata": {},
   "outputs": [],
   "source": [
    "result[\"ConfIDent\"]=dict()\n",
    "result[\"ConfIDent\"][\"name\"]= this_conf_confident\n",
    "result[\"ConfIDent\"][\"id\"]  = this_id_confident\n",
    "result[\"ConfIDent\"][\"url\"] = f\"https://www.confident-conference.org/index.php/{urllib.parse.quote(this_id_confident, safe='')}\""
   ]
  },
  {
   "cell_type": "code",
   "execution_count": 21,
   "id": "27986642-7dac-436b-8e2e-4b3e503ed211",
   "metadata": {},
   "outputs": [
    {
     "data": {
      "application/json": {
       "AIDA": {
        "id": "semweb",
        "name": "International Semantic Web Conference (ISWC)",
        "url": "http://aida-dashboard.unica.it:8080/cs/conference/International%20Semantic%20Web%20Conference%20%28ISWC%29"
       },
       "ConfIDent": {
        "id": "Event Series:ISWC",
        "name": "International Semantic Web Conference",
        "url": "https://www.confident-conference.org/index.php/Event%20Series%3AISWC"
       },
       "DBLP": {
        "id": "semweb",
        "name": "International Semantic Web Conference (ISWC)",
        "url": "https://dblp.org/streams/conf/semweb"
       },
       "colocated_with": "",
       "conference_series": "International Semantic Web Conference",
       "event_acronym": "ISWC 2025",
       "event_name": "24th International Semantic Web Conference (ISWC 2025)",
       "location": "Nara, Japan",
       "organisers": [
        {
         "affiliation_ror": "https://ror.org/03n6nwv02",
         "openalex_name": "Daniel Garijo",
         "openalex_page": "https://openalex.org/A5033224077",
         "orcid": "https://orcid.org/0000-0003-0454-7145",
         "organiser_affiliation": "Universidad Politécnica de Madrid",
         "organiser_country": "Spain",
         "organiser_name": "Daniel Garijo",
         "track_name": "Research"
        },
        {
         "affiliation_ror": "https://ror.org/03yn8s215",
         "openalex_name": "Sabrina Kirrane",
         "openalex_page": "https://openalex.org/A5084740363",
         "orcid": "https://orcid.org/0000-0002-6955-7718",
         "organiser_affiliation": "Vienna University of Economics and Business",
         "organiser_country": "Austria",
         "organiser_name": "Sabrina Kirrane",
         "track_name": "Research"
        },
        {
         "affiliation_ror": "https://ror.org/04qk6pt94",
         "openalex_name": "Cogan Shimizu",
         "openalex_page": "https://openalex.org/A5073404100",
         "orcid": "https://orcid.org/0000-0003-4283-8701",
         "organiser_affiliation": "Wright State University",
         "organiser_country": "US",
         "organiser_name": "Cogan Shimizu",
         "track_name": "Resource"
        },
        {
         "openalex_name": "Angelo A. Salatino",
         "openalex_page": "https://openalex.org/A5074395069",
         "orcid": "https://orcid.org/0000-0002-4763-3943",
         "organiser_affiliation": "KMi, The Open University",
         "organiser_country": "UK",
         "organiser_name": "Angelo Salatino",
         "track_name": "Resource"
        },
        {
         "affiliation_ror": "https://ror.org/02kkvpp62",
         "openalex_name": "Maribel Acosta",
         "openalex_page": "https://openalex.org/A5091892854",
         "orcid": "https://orcid.org/0000-0002-1209-2868",
         "organiser_affiliation": "Technical University of Munich",
         "organiser_country": "Germany",
         "organiser_name": "Maribel Acosta",
         "track_name": "In-use"
        },
        {
         "openalex_name": "Andrea Giovanni Nuzzolese",
         "openalex_page": "https://openalex.org/A5035126139",
         "orcid": "https://orcid.org/0000-0003-2928-9496",
         "organiser_affiliation": "CNR - Institute of Cognitive Sciences and Technologies",
         "organiser_country": "Italy",
         "organiser_name": "Andrea Giovanni Nuzzolese",
         "track_name": "In-use"
        },
        {
         "affiliation_ror": "https://ror.org/01rxvg760",
         "openalex_name": "Gong Cheng",
         "openalex_page": "https://openalex.org/A5012491649",
         "orcid": "https://orcid.org/0000-0001-9322-9354",
         "organiser_affiliation": "Nanjing University",
         "organiser_country": "China",
         "organiser_name": "Gong Cheng",
         "track_name": "Posters and Demos"
        },
        {
         "affiliation_ror": "https://ror.org/006hf6230",
         "openalex_name": "Shenghui Wang",
         "openalex_page": "https://openalex.org/A5065278736",
         "orcid": "https://orcid.org/0000-0003-0583-6969",
         "organiser_affiliation": "University of Twente",
         "organiser_country": "The Netherlands",
         "organiser_name": "Shenghui Wang",
         "track_name": "Posters and Demos"
        },
        {
         "affiliation_ror": "https://ror.org/03taz7m60",
         "openalex_name": "Mayank Kejriwal",
         "openalex_page": "https://openalex.org/A5074197492",
         "orcid": "https://orcid.org/0000-0001-5988-8305",
         "organiser_affiliation": "University of Southern California",
         "organiser_country": "United States",
         "organiser_name": "Mayank Kejriwal",
         "track_name": "Semantic Web Challenges"
        },
        {
         "openalex_name": "Luís Silva",
         "openalex_page": "https://openalex.org/A5016662553",
         "orcid": "https://orcid.org/0000-0002-3434-6056",
         "organiser_affiliation": "Upwork",
         "organiser_country": "United States",
         "organiser_name": "Pablo Mendes",
         "track_name": "Semantic Web Challenges"
        },
        {
         "affiliation_ror": "https://ror.org/01ynf4891",
         "openalex_name": "Blerina Spahiu",
         "openalex_page": "https://openalex.org/A5088767562",
         "orcid": "https://orcid.org/0000-0002-6958-8215",
         "organiser_affiliation": "University of Milano-Bicocca",
         "organiser_country": "Italy",
         "organiser_name": "Blerina Spahiu",
         "track_name": "Workshops"
        },
        {
         "openalex_name": "Juan Sequeda",
         "openalex_page": "https://openalex.org/A5014287041",
         "orcid": "https://orcid.org/0000-0003-3112-9299",
         "organiser_affiliation": "data.world",
         "organiser_country": "USA",
         "organiser_name": "Juan Sequeda",
         "track_name": "Workshops"
        },
        {
         "affiliation_ror": "https://ror.org/0265w5591",
         "openalex_name": "Oktie Hassanzadeh",
         "openalex_page": "https://openalex.org/A5068065546",
         "orcid": "https://orcid.org/0000-0001-5307-9857",
         "organiser_affiliation": "IBM Research",
         "organiser_country": "US",
         "organiser_name": "Oktie Hassanzadeh",
         "track_name": "Industry"
        },
        {
         "affiliation_ror": "https://ror.org/046bfkz44",
         "openalex_name": "Irene Celino",
         "openalex_page": "https://openalex.org/A5054444380",
         "orcid": "https://orcid.org/0000-0001-9962-7193",
         "organiser_affiliation": "Cefriel",
         "organiser_country": "Italy",
         "organiser_name": "Irene Celino",
         "track_name": "Industry"
        },
        {
         "affiliation_ror": "https://ror.org/02crff812",
         "openalex_name": "Abraham Bernstein",
         "openalex_page": "https://openalex.org/A5073592405",
         "orcid": "https://orcid.org/0000-0002-0128-4602",
         "organiser_affiliation": "University of Zurich",
         "organiser_country": "Switzerland",
         "organiser_name": "Abraham Bernstein",
         "track_name": "Doctoral Consortium"
        },
        {
         "openalex_name": "Natasha Noy",
         "openalex_page": "https://openalex.org/A5041421536",
         "orcid": "https://orcid.org/0000-0002-7437-0624",
         "organiser_affiliation": "Google Research",
         "organiser_country": "US",
         "organiser_name": "Natasha Noy",
         "track_name": "Doctoral Consortium"
        }
       ]
      },
      "text/plain": [
       "<IPython.core.display.JSON object>"
      ]
     },
     "execution_count": 21,
     "metadata": {
      "application/json": {
       "expanded": false,
       "root": "root"
      }
     },
     "output_type": "execute_result"
    }
   ],
   "source": [
    "JSON(result)"
   ]
  },
  {
   "cell_type": "code",
   "execution_count": 22,
   "id": "9b815c37-edd8-486d-b83b-ec9dcb93e40a",
   "metadata": {},
   "outputs": [],
   "source": [
    "with open(\"processed_cfps/iswc2025.json\",\"w\") as fw:\n",
    "    json.dump(result,fw)"
   ]
  },
  {
   "cell_type": "code",
   "execution_count": null,
   "id": "4c54d11a-85ce-448c-9c9f-b543b8aa8f2c",
   "metadata": {},
   "outputs": [],
   "source": [
    "json.dumps(result)"
   ]
  },
  {
   "cell_type": "code",
   "execution_count": 4,
   "id": "95f73c5f-acb9-4898-a6fe-713fea806a6b",
   "metadata": {},
   "outputs": [],
   "source": [
    "with open(\"processed_cfps/iswc2025.json\",\"r\") as fr:\n",
    "    result = json.load(fr)"
   ]
  },
  {
   "cell_type": "code",
   "execution_count": 5,
   "id": "bbcea661-ee91-463f-b0bc-38cfdd9e10e4",
   "metadata": {},
   "outputs": [
    {
     "data": {
      "application/json": {
       "AIDA": {
        "id": "semweb",
        "name": "International Semantic Web Conference (ISWC)",
        "url": "http://aida-dashboard.unica.it:8080/cs/conference/International%20Semantic%20Web%20Conference%20%28ISWC%29"
       },
       "DBLP": {
        "id": "semweb",
        "name": "International Semantic Web Conference (ISWC)",
        "url": "https://dblp.org/streams/conf/semweb"
       },
       "colocated_with": "",
       "conference_series": "International Semantic Web Conference",
       "event_acronym": "ISWC 2025",
       "event_name": "24th International Semantic Web Conference",
       "location": "Nara, Japan",
       "organisers": [
        {
         "affiliation_ror": "https://ror.org/03n6nwv02",
         "openalex_name": "Daniel Garijo",
         "openalex_page": "https://openalex.org/A5033224077",
         "orcid": "https://orcid.org/0000-0003-0454-7145",
         "organiser_affiliation": "Universidad Polit\\u00e9cnica de Madrid",
         "organiser_country": "Spain",
         "organiser_name": "Daniel Garijo",
         "track_name": "Research"
        },
        {
         "affiliation_ror": "https://ror.org/03yn8s215",
         "openalex_name": "Sabrina Kirrane",
         "openalex_page": "https://openalex.org/A5084740363",
         "orcid": "https://orcid.org/0000-0002-6955-7718",
         "organiser_affiliation": "Vienna University of Economics and Business",
         "organiser_country": "Austria",
         "organiser_name": "Sabrina Kirrane",
         "track_name": "Research"
        },
        {
         "affiliation_ror": "https://ror.org/04qk6pt94",
         "openalex_name": "Cogan Shimizu",
         "openalex_page": "https://openalex.org/A5073404100",
         "orcid": "https://orcid.org/0000-0003-4283-8701",
         "organiser_affiliation": "Wright State University",
         "organiser_country": "US",
         "organiser_name": "Cogan Shimizu",
         "track_name": "Resource"
        },
        {
         "openalex_name": "Angelo A. Salatino",
         "openalex_page": "https://openalex.org/A5074395069",
         "orcid": "https://orcid.org/0000-0002-4763-3943",
         "organiser_affiliation": "KMi, The Open University",
         "organiser_country": "UK",
         "organiser_name": "Angelo Salatino",
         "track_name": "Resource"
        },
        {
         "affiliation_ror": "https://ror.org/02kkvpp62",
         "openalex_name": "Maribel Acosta",
         "openalex_page": "https://openalex.org/A5091892854",
         "orcid": "https://orcid.org/0000-0002-1209-2868",
         "organiser_affiliation": "Technical University of Munich",
         "organiser_country": "Germany",
         "organiser_name": "Maribel Acosta",
         "track_name": "In-Use"
        },
        {
         "openalex_name": "Andrea Giovanni Nuzzolese",
         "openalex_page": "https://openalex.org/A5035126139",
         "orcid": "https://orcid.org/0000-0003-2928-9496",
         "organiser_affiliation": "CNR - Institute of Cognitive Sciences and Technologies",
         "organiser_country": "Italy",
         "organiser_name": "Andrea Giovanni Nuzzolese",
         "track_name": "In-Use"
        },
        {
         "affiliation_ror": "https://ror.org/01rxvg760",
         "openalex_name": "Gong Cheng",
         "openalex_page": "https://openalex.org/A5012491649",
         "orcid": "https://orcid.org/0000-0001-9322-9354",
         "organiser_affiliation": "Nanjing University",
         "organiser_country": "China",
         "organiser_name": "Gong Cheng",
         "track_name": "Posters and Demos"
        },
        {
         "affiliation_ror": "https://ror.org/006hf6230",
         "openalex_name": "Shenghui Wang",
         "openalex_page": "https://openalex.org/A5065278736",
         "orcid": "https://orcid.org/0000-0003-0583-6969",
         "organiser_affiliation": "University of Twente",
         "organiser_country": "The Netherlands",
         "organiser_name": "Shenghui Wang",
         "track_name": "Posters and Demos"
        },
        {
         "affiliation_ror": "https://ror.org/03taz7m60",
         "openalex_name": "Mayank Kejriwal",
         "openalex_page": "https://openalex.org/A5074197492",
         "orcid": "https://orcid.org/0000-0001-5988-8305",
         "organiser_affiliation": "University of Southern California",
         "organiser_country": "United States",
         "organiser_name": "Mayank Kejriwal",
         "track_name": "Challenges"
        },
        {
         "openalex_name": "Lu\\u00eds Silva",
         "openalex_page": "https://openalex.org/A5016662553",
         "orcid": "https://orcid.org/0000-0002-3434-6056",
         "organiser_affiliation": "Upwork",
         "organiser_country": "United States",
         "organiser_name": "Pablo Mendes",
         "track_name": "Challenges"
        },
        {
         "affiliation_ror": "https://ror.org/01ynf4891",
         "openalex_name": "Blerina Spahiu",
         "openalex_page": "https://openalex.org/A5088767562",
         "orcid": "https://orcid.org/0000-0002-6958-8215",
         "organiser_affiliation": "University of Milano-Bicocca",
         "organiser_country": "Italy",
         "organiser_name": "Blerina Spahiu",
         "track_name": "Workshops and Tutorials"
        },
        {
         "openalex_name": "Juan Sequeda",
         "openalex_page": "https://openalex.org/A5014287041",
         "orcid": "https://orcid.org/0000-0003-3112-9299",
         "organiser_affiliation": "data.world",
         "organiser_country": "USA",
         "organiser_name": "Juan Sequeda",
         "track_name": "Workshops and Tutorials"
        },
        {
         "affiliation_ror": "https://ror.org/0265w5591",
         "openalex_name": "Oktie Hassanzadeh",
         "openalex_page": "https://openalex.org/A5068065546",
         "orcid": "https://orcid.org/0000-0001-5307-9857",
         "organiser_affiliation": "IBM Research",
         "organiser_country": "US",
         "organiser_name": "Oktie Hassanzadeh",
         "track_name": "Industry"
        },
        {
         "affiliation_ror": "https://ror.org/046bfkz44",
         "openalex_name": "Irene Celino",
         "openalex_page": "https://openalex.org/A5054444380",
         "orcid": "https://orcid.org/0000-0001-9962-7193",
         "organiser_affiliation": "Cefriel",
         "organiser_country": "Italy",
         "organiser_name": "Irene Celino",
         "track_name": "Industry"
        },
        {
         "affiliation_ror": "https://ror.org/02crff812",
         "openalex_name": "Abraham Bernstein",
         "openalex_page": "https://openalex.org/A5073592405",
         "orcid": "https://orcid.org/0000-0002-0128-4602",
         "organiser_affiliation": "University of Zurich",
         "organiser_country": "Switzerland",
         "organiser_name": "Abraham Bernstein",
         "track_name": "Doctoral Consortium"
        },
        {
         "openalex_name": "Natasha Noy",
         "openalex_page": "https://openalex.org/A5041421536",
         "orcid": "https://orcid.org/0000-0002-7437-0624",
         "organiser_affiliation": "Google Research",
         "organiser_country": "US",
         "organiser_name": "Natasha Noy",
         "track_name": "Doctoral Consortium"
        }
       ]
      },
      "text/plain": [
       "<IPython.core.display.JSON object>"
      ]
     },
     "execution_count": 5,
     "metadata": {
      "application/json": {
       "expanded": false,
       "root": "root"
      }
     },
     "output_type": "execute_result"
    }
   ],
   "source": [
    "JSON(result)"
   ]
  },
  {
   "cell_type": "code",
   "execution_count": null,
   "id": "0c3cc7b8-6811-4c87-b064-3e6690892e06",
   "metadata": {},
   "outputs": [],
   "source": []
  }
 ],
 "metadata": {
  "kernelspec": {
   "display_name": "Python 3 (ipykernel)",
   "language": "python",
   "name": "python3"
  },
  "language_info": {
   "codemirror_mode": {
    "name": "ipython",
    "version": 3
   },
   "file_extension": ".py",
   "mimetype": "text/x-python",
   "name": "python",
   "nbconvert_exporter": "python",
   "pygments_lexer": "ipython3",
   "version": "3.8.20"
  }
 },
 "nbformat": 4,
 "nbformat_minor": 5
}
