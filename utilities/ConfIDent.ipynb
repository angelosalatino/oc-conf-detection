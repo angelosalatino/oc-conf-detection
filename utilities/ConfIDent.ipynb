{
 "cells": [
  {
   "cell_type": "markdown",
   "id": "f013136d-4858-4b94-9d28-d62e25706ec2",
   "metadata": {},
   "source": [
    "\n",
    "https://www.confident-conference.org/api.php?action=ask&query=[[Category:Event_Series]]|offset%3D50&format=json"
   ]
  },
  {
   "cell_type": "markdown",
   "id": "a6e37d31-f23c-4ef4-94e5-5094d2947366",
   "metadata": {},
   "source": [
    "Better query:\n",
    "https://www.confident-conference.org/api.php?action=ask&query=[[Category:Event_Series]]|limit%3D2000&format=json"
   ]
  },
  {
   "cell_type": "markdown",
   "id": "0e73f7e0-11a9-488d-b0ae-32f213b4787b",
   "metadata": {},
   "source": [
    "Much better query: https://www.confident-conference.org/api.php?action=ask&query=[[Category:Event_Series]]|?DBLP%20Series%20ID|?Title|?Acronym|?DOI|limit%3D3000&format=json"
   ]
  },
  {
   "cell_type": "markdown",
   "id": "226ec0e7-9aea-4b80-b8bc-c7ea98cd5683",
   "metadata": {},
   "source": [
    "# Downloading data"
   ]
  },
  {
   "cell_type": "code",
   "execution_count": 7,
   "id": "46a7c8a0-8bc1-4d5f-8c5f-def5a2bcf364",
   "metadata": {},
   "outputs": [],
   "source": [
    "import requests\n",
    "import json"
   ]
  },
  {
   "cell_type": "code",
   "execution_count": 2,
   "id": "38cb16b6-3494-4081-add3-51f4fb965685",
   "metadata": {},
   "outputs": [],
   "source": [
    "r = requests.get('https://www.confident-conference.org/api.php?action=ask&query=[[Category:Event_Series]]|?DBLP%20Series%20ID|?Title|?Acronym|?DOI|limit%3D3000&format=json')"
   ]
  },
  {
   "cell_type": "code",
   "execution_count": 3,
   "id": "cbf843f3-e6a1-4b25-a5bd-adda60e2cd42",
   "metadata": {},
   "outputs": [
    {
     "data": {
      "text/plain": [
       "200"
      ]
     },
     "execution_count": 3,
     "metadata": {},
     "output_type": "execute_result"
    }
   ],
   "source": [
    "r.status_code"
   ]
  },
  {
   "cell_type": "code",
   "execution_count": 4,
   "id": "c6ce11cd-49fe-43c3-aec5-8d70c5ce9576",
   "metadata": {},
   "outputs": [],
   "source": [
    "result = r.json()"
   ]
  },
  {
   "cell_type": "code",
   "execution_count": 5,
   "id": "1c73d072-8e72-4fe5-a355-eaeadd8fa21d",
   "metadata": {},
   "outputs": [
    {
     "data": {
      "text/plain": [
       "dict_keys(['query'])"
      ]
     },
     "execution_count": 5,
     "metadata": {},
     "output_type": "execute_result"
    }
   ],
   "source": [
    "result.keys()"
   ]
  },
  {
   "cell_type": "code",
   "execution_count": 8,
   "id": "bc1c428a-9fa5-4e08-bd8f-f5930bcee834",
   "metadata": {},
   "outputs": [],
   "source": [
    "with open('ConfIDent.json','w') as fw:\n",
    "    json.dump(result, fw)"
   ]
  },
  {
   "cell_type": "markdown",
   "id": "94a8ac4e-a568-496f-b855-845587929f74",
   "metadata": {},
   "source": [
    "# Creating Index"
   ]
  },
  {
   "cell_type": "code",
   "execution_count": 10,
   "id": "768808ff-9dbe-4b2e-a482-2e9e8fb3b509",
   "metadata": {},
   "outputs": [],
   "source": [
    "with open('ConfIDent.json','r') as fr:\n",
    "    confident = json.load(fr)"
   ]
  },
  {
   "cell_type": "code",
   "execution_count": 20,
   "id": "3c86b8dc-25c3-4f2d-8040-549995de1bdf",
   "metadata": {},
   "outputs": [
    {
     "data": {
      "text/plain": [
       "3705"
      ]
     },
     "execution_count": 20,
     "metadata": {},
     "output_type": "execute_result"
    }
   ],
   "source": [
    "c_results = confident[\"query\"][\"results\"]\n",
    "unique_confs = {}\n",
    "for k, c_series in c_results.items():\n",
    "    unique_confs[c_series[\"displaytitle\"]] = k\n",
    "    if len(c_series[\"printouts\"][\"Title\"]) > 0:\n",
    "        unique_confs[c_series[\"printouts\"][\"Title\"][0]] = k\n",
    "len(unique_confs)"
   ]
  },
  {
   "cell_type": "code",
   "execution_count": 21,
   "id": "19ef5240-3fcb-4767-b278-e1d30c20a9fa",
   "metadata": {},
   "outputs": [
    {
     "data": {
      "text/plain": [
       "566"
      ]
     },
     "execution_count": 21,
     "metadata": {},
     "output_type": "execute_result"
    }
   ],
   "source": [
    "dblp_confs = {}\n",
    "for k, c_series in c_results.items():\n",
    "    if len(c_series[\"printouts\"][\"DBLP Series ID\"]) > 0:\n",
    "        dblp_confs[c_series[\"printouts\"][\"DBLP Series ID\"][0]] = k\n",
    "len(dblp_confs)"
   ]
  },
  {
   "cell_type": "code",
   "execution_count": 24,
   "id": "b86371ed-81c4-4040-b196-9dd808c8b200",
   "metadata": {},
   "outputs": [],
   "source": [
    "# dblp_confs[\"semweb\"]"
   ]
  },
  {
   "cell_type": "code",
   "execution_count": 16,
   "id": "64225ade-a42b-4f05-9a51-28e7b5018b3f",
   "metadata": {},
   "outputs": [
    {
     "name": "stderr",
     "output_type": "stream",
     "text": [
      "/opt/anaconda3/envs/dev38/lib/python3.8/site-packages/sentence_transformers/cross_encoder/CrossEncoder.py:13: TqdmExperimentalWarning: Using `tqdm.autonotebook.tqdm` in notebook mode. Use `tqdm.tqdm` instead to force console mode (e.g. in jupyter console)\n",
      "  from tqdm.autonotebook import tqdm, trange\n"
     ]
    },
    {
     "name": "stdout",
     "output_type": "stream",
     "text": [
      "(3705, 384)\n"
     ]
    }
   ],
   "source": [
    "from sentence_transformers import SentenceTransformer\n",
    "\n",
    "# 1. Load a pretrained Sentence Transformer model\n",
    "model = SentenceTransformer(\"all-MiniLM-L6-v2\")\n",
    "\n",
    "# The sentences to encode\n",
    "sentences = list(unique_confs.keys())\n",
    "\n",
    "# 2. Calculate embeddings by calling model.encode()\n",
    "embeddings = model.encode(sentences)\n",
    "print(embeddings.shape)\n",
    "# [3, 384]\n",
    "\n",
    "vector_size = embeddings.shape[1]"
   ]
  },
  {
   "cell_type": "code",
   "execution_count": 17,
   "id": "cc42cab5-cb9b-4cd1-bd20-a33931ae3786",
   "metadata": {},
   "outputs": [
    {
     "name": "stdout",
     "output_type": "stream",
     "text": [
      "True\n"
     ]
    }
   ],
   "source": [
    "import faiss                   # make faiss available\n",
    "index = faiss.IndexFlatL2(vector_size)   # build the index\n",
    "print(index.is_trained)"
   ]
  },
  {
   "cell_type": "code",
   "execution_count": 18,
   "id": "5e415382-4b8f-45aa-9a72-51b9f154dda4",
   "metadata": {},
   "outputs": [
    {
     "name": "stdout",
     "output_type": "stream",
     "text": [
      "3705\n"
     ]
    }
   ],
   "source": [
    "index.add(embeddings)                  # add vectors to the index\n",
    "print(index.ntotal)"
   ]
  },
  {
   "cell_type": "code",
   "execution_count": 25,
   "id": "6bc566cb-c40c-4212-b8cd-133452900637",
   "metadata": {},
   "outputs": [],
   "source": [
    "to_save = dict()\n",
    "to_save[\"sentences\"] = sentences\n",
    "to_save[\"index\"] = index\n",
    "to_save[\"confs\"] = unique_confs\n",
    "to_save[\"conf_series\"] = c_results\n",
    "to_save[\"dblp_confs\"] = dblp_confs\n",
    "import pickle\n",
    "with open('ConfIDent.pickle', 'wb') as handle:\n",
    "    pickle.dump(to_save, handle, protocol=pickle.HIGHEST_PROTOCOL)"
   ]
  },
  {
   "cell_type": "code",
   "execution_count": null,
   "id": "b2bd3edb-e96b-41dc-9af5-70ab0b644c60",
   "metadata": {},
   "outputs": [],
   "source": []
  }
 ],
 "metadata": {
  "kernelspec": {
   "display_name": "Python 3 (ipykernel)",
   "language": "python",
   "name": "python3"
  },
  "language_info": {
   "codemirror_mode": {
    "name": "ipython",
    "version": 3
   },
   "file_extension": ".py",
   "mimetype": "text/x-python",
   "name": "python",
   "nbconvert_exporter": "python",
   "pygments_lexer": "ipython3",
   "version": "3.8.20"
  }
 },
 "nbformat": 4,
 "nbformat_minor": 5
}
