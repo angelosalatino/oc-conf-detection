{
 "cells": [
  {
   "cell_type": "code",
   "execution_count": 11,
   "id": "af303eea-edeb-41f7-b917-b7f34377e847",
   "metadata": {},
   "outputs": [
    {
     "data": {
      "text/plain": [
       "['config.ini']"
      ]
     },
     "execution_count": 11,
     "metadata": {},
     "output_type": "execute_result"
    }
   ],
   "source": [
    "from IPython.core.display import JSON\n",
    "import json\n",
    "import configparser\n",
    "config = configparser.ConfigParser()\n",
    "config.read('config.ini')"
   ]
  },
  {
   "cell_type": "code",
   "execution_count": null,
   "id": "997ca410-73ba-4359-8ef1-c4d3633a18bc",
   "metadata": {},
   "outputs": [],
   "source": [
    "topsecret = config['DEFAULT']['api']\n",
    "# print(topsecret)"
   ]
  },
  {
   "cell_type": "code",
   "execution_count": 3,
   "id": "2c4bb30a-8f0a-424f-96e1-c2147b4a723d",
   "metadata": {},
   "outputs": [
    {
     "name": "stdout",
     "output_type": "stream",
     "text": [
      "The meaning of life is a philosophical and existential question that has been pondered by humans for centuries. Different cultures, religions, philosophies, and individuals offer various interpretations. Some suggest that life's meaning is derived from religious or spiritual beliefs, while others propose that it's about seeking happiness, creating meaningful relationships, pursuing knowledge, or contributing to society. Existentialists might argue that life has no inherent meaning, and it's up to each individual to create their own purpose. Ultimately, the meaning of life can vary greatly depending on personal beliefs and values.\n"
     ]
    }
   ],
   "source": [
    "from openai import OpenAI\n",
    "\n",
    "client = OpenAI(\n",
    "  base_url=\"https://openrouter.ai/api/v1\",\n",
    "  api_key=topsecret,\n",
    ")\n",
    "\n",
    "completion = client.chat.completions.create(\n",
    "  extra_headers={\n",
    "    \"HTTP-Referer\": \"<YOUR_SITE_URL>\", # Optional. Site URL for rankings on openrouter.ai.\n",
    "    \"X-Title\": \"<YOUR_SITE_NAME>\", # Optional. Site title for rankings on openrouter.ai.\n",
    "  },\n",
    "  model=\"openai/gpt-4o\",\n",
    "  messages=[\n",
    "    {\n",
    "      \"role\": \"user\",\n",
    "      \"content\": \"What is the meaning of life?\"\n",
    "    }\n",
    "  ]\n",
    ")\n",
    "\n",
    "print(completion.choices[0].message.content)\n"
   ]
  },
  {
   "cell_type": "code",
   "execution_count": 4,
   "id": "b53b76b5-3652-43fb-a9b9-4a7a4e20257e",
   "metadata": {},
   "outputs": [],
   "source": [
    "import requests\n",
    "import json\n",
    "\n",
    "response = requests.post(\n",
    "  url=\"https://openrouter.ai/api/v1/chat/completions\",\n",
    "  headers={\n",
    "    \"Authorization\": f\"Bearer {topsecret}\",\n",
    "    \"HTTP-Referer\": \"<YOUR_SITE_URL>\", # Optional. Site URL for rankings on openrouter.ai.\n",
    "    \"X-Title\": \"<YOUR_SITE_NAME>\", # Optional. Site title for rankings on openrouter.ai.\n",
    "  },\n",
    "  data=json.dumps({\n",
    "    \"model\": \"openai/gpt-4o\", # Optional\n",
    "    \"messages\": [\n",
    "      {\n",
    "        \"role\": \"user\",\n",
    "        \"content\": \"What is the meaning of life?\"\n",
    "      }\n",
    "    ]\n",
    "  })\n",
    ")\n"
   ]
  },
  {
   "cell_type": "code",
   "execution_count": 17,
   "id": "1b863756-ec97-432a-9987-616eb2fd0867",
   "metadata": {},
   "outputs": [
    {
     "name": "stdout",
     "output_type": "stream",
     "text": [
      "The meaning of life is a profound and often philosophical question that has intrigued humans for centuries. It can vary greatly depending on individual beliefs, cultural perspectives, religious views, and personal experiences. Some people find meaning through relationships, achievements, or contributions to society, while others may look to religion or spirituality for answers. Philosophically, existentialists like Jean-Paul Sartre argue that life has no inherent meaning other than what we give it, while others believe in pre-determined purposes or destinies. Ultimately, the meaning of life is a deeply personal exploration and may be different for everyone.\n"
     ]
    }
   ],
   "source": [
    "if response.status_code == 200:\n",
    "    text = json.loads(response.text)[\"choices\"][0][\"message\"][\"content\"]\n",
    "print(text)"
   ]
  },
  {
   "cell_type": "code",
   "execution_count": 12,
   "id": "b1eeb375-c334-4f41-b65e-5c725ffb1e5c",
   "metadata": {},
   "outputs": [
    {
     "data": {
      "application/json": {
       "choices": [
        {
         "finish_reason": "stop",
         "index": 0,
         "logprobs": null,
         "message": {
          "content": "The meaning of life is a profound and often philosophical question that has intrigued humans for centuries. It can vary greatly depending on individual beliefs, cultural perspectives, religious views, and personal experiences. Some people find meaning through relationships, achievements, or contributions to society, while others may look to religion or spirituality for answers. Philosophically, existentialists like Jean-Paul Sartre argue that life has no inherent meaning other than what we give it, while others believe in pre-determined purposes or destinies. Ultimately, the meaning of life is a deeply personal exploration and may be different for everyone.",
          "reasoning": null,
          "refusal": null,
          "role": "assistant"
         },
         "native_finish_reason": "stop"
        }
       ],
       "created": 1755169641,
       "id": "gen-1755169641-rO3ZjWPk7UjXAiEiBIY5",
       "model": "openai/gpt-4o",
       "object": "chat.completion",
       "provider": "OpenAI",
       "system_fingerprint": "fp_6c1b4040d0",
       "usage": {
        "completion_tokens": 116,
        "completion_tokens_details": {
         "reasoning_tokens": 0
        },
        "prompt_tokens": 14,
        "prompt_tokens_details": {
         "cached_tokens": 0
        },
        "total_tokens": 130
       }
      },
      "text/plain": [
       "<IPython.core.display.JSON object>"
      ]
     },
     "execution_count": 12,
     "metadata": {
      "application/json": {
       "expanded": false,
       "root": "root"
      }
     },
     "output_type": "execute_result"
    }
   ],
   "source": [
    "JSON(json.loads(response.text))"
   ]
  },
  {
   "cell_type": "code",
   "execution_count": 14,
   "id": "d28790ab-ee8f-4ce4-986c-a5d0ec9cc98b",
   "metadata": {},
   "outputs": [],
   "source": [
    "from types import SimpleNamespace\n",
    "x = json.loads(response.text, object_hook=lambda d: SimpleNamespace(**d))"
   ]
  },
  {
   "cell_type": "code",
   "execution_count": 15,
   "id": "192fb78f-ce86-4c44-8bb0-cbbbefc203dd",
   "metadata": {},
   "outputs": [
    {
     "data": {
      "text/plain": [
       "'The meaning of life is a profound and often philosophical question that has intrigued humans for centuries. It can vary greatly depending on individual beliefs, cultural perspectives, religious views, and personal experiences. Some people find meaning through relationships, achievements, or contributions to society, while others may look to religion or spirituality for answers. Philosophically, existentialists like Jean-Paul Sartre argue that life has no inherent meaning other than what we give it, while others believe in pre-determined purposes or destinies. Ultimately, the meaning of life is a deeply personal exploration and may be different for everyone.'"
      ]
     },
     "execution_count": 15,
     "metadata": {},
     "output_type": "execute_result"
    }
   ],
   "source": [
    "x.choices[0].message.content"
   ]
  },
  {
   "cell_type": "code",
   "execution_count": 22,
   "id": "a945ebe7-7228-49aa-b73e-9a1a2bda413f",
   "metadata": {},
   "outputs": [
    {
     "name": "stdout",
     "output_type": "stream",
     "text": [
      "{\"location\":\"London\",\"temperature\":8.5,\"conditions\":\"Overcast with light drizzle\"}\n"
     ]
    }
   ],
   "source": [
    "true = True\n",
    "false = False\n",
    "completion = client.chat.completions.create(\n",
    "  extra_headers={\n",
    "    \"HTTP-Referer\": \"<YOUR_SITE_URL>\", # Optional. Site URL for rankings on openrouter.ai.\n",
    "    \"X-Title\": \"<YOUR_SITE_NAME>\", # Optional. Site title for rankings on openrouter.ai.\n",
    "  },\n",
    "  model=\"openai/gpt-4o\",\n",
    "  messages= [\n",
    "    { \"role\": \"user\", \"content\": \"What's the weather like in London?\" }\n",
    "  ],\n",
    "  response_format={\n",
    "    \"type\": \"json_schema\",\n",
    "    \"json_schema\": {\n",
    "      \"name\": \"weather\",\n",
    "      \"strict\": true,\n",
    "      \"schema\": {\n",
    "        \"type\": \"object\",\n",
    "        \"properties\": {\n",
    "          \"location\": {\n",
    "            \"type\": \"string\",\n",
    "            \"description\": \"City or location name\"\n",
    "          },\n",
    "          \"temperature\": {\n",
    "            \"type\": \"number\",\n",
    "            \"description\": \"Temperature in Celsius\"\n",
    "          },\n",
    "          \"conditions\": {\n",
    "            \"type\": \"string\",\n",
    "            \"description\": \"Weather conditions description\"\n",
    "          }\n",
    "        },\n",
    "        \"required\": [\"location\", \"temperature\", \"conditions\"],\n",
    "        \"additionalProperties\": false\n",
    "      }\n",
    "    }\n",
    "  }\n",
    ")\n",
    "\n",
    "print(completion.choices[0].message.content)"
   ]
  },
  {
   "cell_type": "code",
   "execution_count": null,
   "id": "6f4d11d2-85fe-4d2a-a57c-6ad2c3a1b291",
   "metadata": {},
   "outputs": [],
   "source": []
  }
 ],
 "metadata": {
  "kernelspec": {
   "display_name": "Python 3 (ipykernel)",
   "language": "python",
   "name": "python3"
  },
  "language_info": {
   "codemirror_mode": {
    "name": "ipython",
    "version": 3
   },
   "file_extension": ".py",
   "mimetype": "text/x-python",
   "name": "python",
   "nbconvert_exporter": "python",
   "pygments_lexer": "ipython3",
   "version": "3.8.20"
  }
 },
 "nbformat": 4,
 "nbformat_minor": 5
}
