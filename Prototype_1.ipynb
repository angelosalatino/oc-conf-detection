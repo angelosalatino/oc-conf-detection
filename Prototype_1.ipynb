{
 "cells": [
  {
   "cell_type": "markdown",
   "id": "0b61ecb1-667e-44fb-861a-16072faa60b5",
   "metadata": {},
   "source": [
    "# Organising Committee Indentifier\n",
    "\n",
    "This is a first prototype an identifier for a conference organiser.\n",
    "\n",
    "Steps:\n",
    "1. Extracting information from the Call for Papers\n",
    "2. Identifying organisers in OpenAlex\n",
    "3. Locating conference or event on the main databases (such as DBLP, AIDA Dashboard, or [ConfIDent](https://www.confident-conference.org/index.php/Category:Event_Series))"
   ]
  },
  {
   "cell_type": "code",
   "execution_count": 1,
   "id": "cc067f5d-ee8f-4b14-a3e1-341f8dce4704",
   "metadata": {},
   "outputs": [],
   "source": [
    "from IPython.core.display import JSON\n",
    "import json"
   ]
  },
  {
   "cell_type": "code",
   "execution_count": 2,
   "id": "d8a89c88-4ee7-4437-a05f-4420890657f6",
   "metadata": {},
   "outputs": [],
   "source": [
    "import configparser\n",
    "config = configparser.ConfigParser()\n",
    "config.read('config.ini')\n",
    "topsecret = config['DEFAULT']['api']"
   ]
  },
  {
   "cell_type": "code",
   "execution_count": 3,
   "id": "ae47b420-b38a-4f08-af36-a86ea21a508b",
   "metadata": {},
   "outputs": [],
   "source": [
    "from openai import OpenAI\n",
    "client = OpenAI(\n",
    "  base_url=\"https://openrouter.ai/api/v1\",\n",
    "  api_key=topsecret,\n",
    ")"
   ]
  },
  {
   "cell_type": "markdown",
   "id": "22949fdc-87aa-4027-a9c4-ca6cf65370cd",
   "metadata": {},
   "source": [
    "# Reading CfP and creating prompt"
   ]
  },
  {
   "cell_type": "code",
   "execution_count": 4,
   "id": "23a5c1a9-4d60-4071-a762-ce55ff0bf55d",
   "metadata": {
    "scrolled": true
   },
   "outputs": [],
   "source": [
    "SOURCE = 'cfps'\n",
    "CFP = 'iswc2025.txt'\n",
    "with open(f'{SOURCE}/{CFP}','r') as fr:\n",
    "    call_for_papers = fr.read()\n",
    "# print(call_for_papers)"
   ]
  },
  {
   "cell_type": "code",
   "execution_count": 5,
   "id": "dff3e265-e3a2-4673-bc5d-a4fcea2c7194",
   "metadata": {},
   "outputs": [],
   "source": [
    "text_prompt = f\"\"\"In this prompt, you will receive a Call for Papers of a scientific event. Your task is to parse it, and identify some crucial elements:\n",
    "\n",
    "- the event name and its acronym;\n",
    "- the location of the event\n",
    "- the organisers of the event\n",
    "\n",
    "<call_for_papers>\n",
    "{call_for_papers}\n",
    "</call_for_papers>\"\"\"\n",
    "# print(text_prompt)"
   ]
  },
  {
   "cell_type": "code",
   "execution_count": 7,
   "id": "bef3d0c6-c0aa-47cc-bdea-08eaf8c43372",
   "metadata": {},
   "outputs": [],
   "source": [
    "true = True\n",
    "false = False\n",
    "extra_headers={\n",
    "\"HTTP-Referer\": \"https://skm.kmi.open.ac.uk\", # Optional. Site URL for rankings on openrouter.ai.\n",
    "\"X-Title\": \"SKM Team at OU\", # Optional. Site title for rankings on openrouter.ai.\n",
    "}\n",
    "model=\"openai/gpt-4o\"\n",
    "messages= [\n",
    "{ \"role\": \"user\", \"content\": text_prompt }\n",
    "]\n",
    "response_format={\n",
    "\"type\": \"json_schema\",\n",
    "\"json_schema\": {\n",
    "  \"name\": \"organising_committe_of_conference\",\n",
    "  \"strict\": true,\n",
    "  \"schema\": {\n",
    "    \"type\": \"object\",\n",
    "    \"properties\": {\n",
    "      \"event_name\": {\n",
    "        \"type\": \"string\",\n",
    "        \"description\": \"Name of the workshop or conference. This identifies the extended name of the event.\"\n",
    "      },\n",
    "      \"conference_series\": {\n",
    "        \"type\": \"string\",\n",
    "        \"description\": \"This refers to the name of a conference series, which is a collection of events that happen on a regular basis. It's usually similar to the event's name, but without the edition number or the year.\"\n",
    "      },\n",
    "      \"event_acronym\": {\n",
    "        \"type\": \"string\",\n",
    "        \"description\": \"Acronym of the workshop or conference. This identifies the acronym name of the event.\"\n",
    "      },\n",
    "      \"colocated_with\": {\n",
    "        \"type\": \"string\",\n",
    "        \"description\": \"If the name of the event is co-located with another big event. Otherwise if empty.\"\n",
    "      },\n",
    "      \"location\": {\n",
    "        \"type\": \"string\",\n",
    "        \"description\": \"City or location name\"\n",
    "      },\n",
    "      \"organisers\": {\n",
    "        \"type\": \"array\",\n",
    "        \"items\": {\n",
    "                \"type\": \"object\",\n",
    "                \"properties\": {\n",
    "                    \"organiser_name\": {\n",
    "                        \"type\": \"string\",\n",
    "                        \"description\": \"The organiser name.\"\n",
    "                    },\n",
    "                    \"organiser_affiliation\": {\n",
    "                        \"type\": \"string\",\n",
    "                        \"description\": \"The institution (affiliation) of the organiser. This can be either a university or a company.\"\n",
    "                    },\n",
    "                    \"organiser_country\": {\n",
    "                        \"type\": \"string\",\n",
    "                        \"description\": \"The institution country of the organiser. This information is not always available.\"\n",
    "                    },\n",
    "                    \"track_name\": {\n",
    "                        \"type\": \"string\",\n",
    "                        \"description\": \"This identifies the main track in which the organiser is involved. A conference may have several tracks, whereas a workshop may have one single track. As default you shall use 'main'.\"\n",
    "                    }\n",
    "                },\n",
    "            \"required\": [\"organiser_name\", \"organiser_affiliation\", \"organiser_country\", \"track_name\"],\n",
    "            \"additionalProperties\": false\n",
    "            },\n",
    "        \"description\": \"Identifies the name, affiliation (ideally including country) of the conference organisers and the name of the track they organise.\"\n",
    "      }\n",
    "    },\n",
    "    \"required\": [\"event_name\", \"event_acronym\", \"conference_series\", \"colocated_with\", \"location\", \"organisers\"],\n",
    "    \"additionalProperties\": false\n",
    "  }\n",
    "}\n",
    "}"
   ]
  },
  {
   "cell_type": "markdown",
   "id": "3c36c6f6-3597-4bf9-949e-cac7ebe4e004",
   "metadata": {},
   "source": [
    "# Running the extraction"
   ]
  },
  {
   "cell_type": "code",
   "execution_count": 8,
   "id": "343c97b3-b39e-45b3-b903-092fd5234b8b",
   "metadata": {},
   "outputs": [],
   "source": [
    "completion = client.chat.completions.create(extra_headers=extra_headers, \n",
    "                                            model=model, \n",
    "                                            messages=messages, \n",
    "                                            response_format=response_format)\n",
    "\n",
    "# JSON(completion.choices[0].message.content)"
   ]
  },
  {
   "cell_type": "code",
   "execution_count": 9,
   "id": "7d8a0b5c-2c77-4a5e-8354-12a78b5196f8",
   "metadata": {},
   "outputs": [
    {
     "data": {
      "application/json": {
       "colocated_with": "",
       "conference_series": "International Semantic Web Conference",
       "event_acronym": "ISWC 2025",
       "event_name": "24th International Semantic Web Conference",
       "location": "Nara, Japan",
       "organisers": [
        {
         "organiser_affiliation": "Universidad Politécnica de Madrid",
         "organiser_country": "Spain",
         "organiser_name": "Daniel Garijo",
         "track_name": "Research"
        },
        {
         "organiser_affiliation": "Vienna University of Economics and Business",
         "organiser_country": "Austria",
         "organiser_name": "Sabrina Kirrane",
         "track_name": "Research"
        },
        {
         "organiser_affiliation": "Wright State University",
         "organiser_country": "US",
         "organiser_name": "Cogan Shimizu",
         "track_name": "Resource"
        },
        {
         "organiser_affiliation": "KMi, The Open University",
         "organiser_country": "UK",
         "organiser_name": "Angelo Salatino",
         "track_name": "Resource"
        },
        {
         "organiser_affiliation": "Technical University of Munich",
         "organiser_country": "Germany",
         "organiser_name": "Maribel Acosta",
         "track_name": "In-Use"
        },
        {
         "organiser_affiliation": "CNR - Institute of Cognitive Sciences and Technologies",
         "organiser_country": "Italy",
         "organiser_name": "Andrea Giovanni Nuzzolese",
         "track_name": "In-Use"
        },
        {
         "organiser_affiliation": "Nanjing University",
         "organiser_country": "China",
         "organiser_name": "Gong Cheng",
         "track_name": "Posters and Demos"
        },
        {
         "organiser_affiliation": "University of Twente",
         "organiser_country": "The Netherlands",
         "organiser_name": "Shenghui Wang",
         "track_name": "Posters and Demos"
        },
        {
         "organiser_affiliation": "University of Southern California",
         "organiser_country": "United States",
         "organiser_name": "Mayank Kejriwal",
         "track_name": "Challenges"
        },
        {
         "organiser_affiliation": "Upwork",
         "organiser_country": "United States",
         "organiser_name": "Pablo Mendes",
         "track_name": "Challenges"
        },
        {
         "organiser_affiliation": "University of Milano-Bicocca",
         "organiser_country": "Italy",
         "organiser_name": "Blerina Spahiu",
         "track_name": "Workshops and Tutorials"
        },
        {
         "organiser_affiliation": "data.world",
         "organiser_country": "USA",
         "organiser_name": "Juan Sequeda",
         "track_name": "Workshops and Tutorials"
        },
        {
         "organiser_affiliation": "IBM Research",
         "organiser_country": "US",
         "organiser_name": "Oktie Hassanzadeh",
         "track_name": "Industry"
        },
        {
         "organiser_affiliation": "Cefriel",
         "organiser_country": "Italy",
         "organiser_name": "Irene Celino",
         "track_name": "Industry"
        },
        {
         "organiser_affiliation": "University of Zurich",
         "organiser_country": "Switzerland",
         "organiser_name": "Abraham Bernstein",
         "track_name": "Doctoral Consortium"
        },
        {
         "organiser_affiliation": "Google Research",
         "organiser_country": "US",
         "organiser_name": "Natasha Noy",
         "track_name": "Doctoral Consortium"
        }
       ]
      },
      "text/plain": [
       "<IPython.core.display.JSON object>"
      ]
     },
     "execution_count": 9,
     "metadata": {
      "application/json": {
       "expanded": false,
       "root": "root"
      }
     },
     "output_type": "execute_result"
    }
   ],
   "source": [
    "result = json.loads(completion.choices[0].message.content)\n",
    "JSON(result)"
   ]
  },
  {
   "cell_type": "markdown",
   "id": "8160d3d7-c03b-4652-b3c5-54129efefe54",
   "metadata": {},
   "source": [
    "# Find Organisers on OpenAlex"
   ]
  },
  {
   "cell_type": "code",
   "execution_count": 10,
   "id": "7d7d9a41-35b5-48da-918c-70db7f221c41",
   "metadata": {},
   "outputs": [],
   "source": [
    "from pyalex import config\n",
    "from pyalex import Authors, Institutions\n",
    "import logging\n",
    "\n",
    "config.email = \"angelo.salatino@open.ac.uk\"\n",
    "config.max_retries = 0\n",
    "config.retry_backoff_factor = 0.1\n",
    "config.retry_http_codes = [429, 500, 503]"
   ]
  },
  {
   "cell_type": "code",
   "execution_count": 11,
   "id": "c8e5fb7f-1198-474f-9bb6-66035bc8e8e8",
   "metadata": {},
   "outputs": [],
   "source": [
    "def get_authors_info_from_openalex(organisers:list)->list:\n",
    "    DEBUG = False\n",
    "    for organiser in organisers:\n",
    "        find_author_with_less_info = False\n",
    "        orga = {}\n",
    "        # Search for the institution\n",
    "        insts = Institutions().search(organiser[\"organiser_affiliation\"]).get()\n",
    "        # print(f\"{len(insts)} search results found for the institution\")\n",
    "        # print(insts)\n",
    "        if len(insts) > 0:\n",
    "            inst_id = insts[0][\"id\"].replace(\"https://openalex.org/\", \"\")\n",
    "    \n",
    "            if \"ror\" in insts[0][\"ids\"]:\n",
    "                organiser[\"affiliation_ror\"] = insts[0][\"ids\"][\"ror\"]\n",
    "            \n",
    "            # Search for the author within the institution\n",
    "            auths = Authors().search(organiser[\"organiser_name\"]).filter(affiliations={\"institution\":{\"id\": inst_id}}).get()\n",
    "            if len(auths) > 0:        \n",
    "                if DEBUG: print(f\"{len(auths)} search results found for the author\")\n",
    "                orga = auths[0]\n",
    "            else:\n",
    "                find_author_with_less_info = True\n",
    "                if DEBUG: print(f\"For {organiser['organiser_name']} I could not find a record\")\n",
    "            \n",
    "                \n",
    "        else:\n",
    "            find_author_with_less_info = True\n",
    "            if DEBUG: print(f\"For {organiser['organiser_name']} I could not find a record of her institution\")\n",
    "    \n",
    "        if find_author_with_less_info:\n",
    "            auths = Authors().search(organiser['organiser_name']).get()\n",
    "            if len(auths) == 1:\n",
    "                orga = auths[0]\n",
    "            elif len(auths) == 0:\n",
    "                if DEBUG: print(f\"For {organiser['organiser_name']} I could not find a record, AGAIN\")\n",
    "            else:\n",
    "                if DEBUG: print(f\"Found multiple records for {organiser['organiser_name']}\")\n",
    "                new_auths = sorted(auths, key=lambda item: item['works_count'], reverse=True)\n",
    "                orga = new_auths[0]\n",
    "    \n",
    "        if len(orga) > 0:\n",
    "            organiser[\"openalex_name\"] = orga[\"display_name\"]\n",
    "            organiser[\"openalex_page\"] = orga[\"id\"]\n",
    "            organiser[\"orcid\"] = orga[\"orcid\"]\n",
    "\n",
    "    return organisers\n",
    "\n",
    "result[\"organisers\"] = get_authors_info_from_openalex(result[\"organisers\"])"
   ]
  },
  {
   "cell_type": "code",
   "execution_count": 12,
   "id": "87e9d62c-c941-48d8-85f6-40a7839d0feb",
   "metadata": {},
   "outputs": [
    {
     "data": {
      "application/json": {
       "colocated_with": "",
       "conference_series": "International Semantic Web Conference",
       "event_acronym": "ISWC 2025",
       "event_name": "24th International Semantic Web Conference",
       "location": "Nara, Japan",
       "organisers": [
        {
         "affiliation_ror": "https://ror.org/03n6nwv02",
         "openalex_name": "Daniel Garijo",
         "openalex_page": "https://openalex.org/A5033224077",
         "orcid": "https://orcid.org/0000-0003-0454-7145",
         "organiser_affiliation": "Universidad Politécnica de Madrid",
         "organiser_country": "Spain",
         "organiser_name": "Daniel Garijo",
         "track_name": "Research"
        },
        {
         "affiliation_ror": "https://ror.org/03yn8s215",
         "openalex_name": "Sabrina Kirrane",
         "openalex_page": "https://openalex.org/A5084740363",
         "orcid": "https://orcid.org/0000-0002-6955-7718",
         "organiser_affiliation": "Vienna University of Economics and Business",
         "organiser_country": "Austria",
         "organiser_name": "Sabrina Kirrane",
         "track_name": "Research"
        },
        {
         "affiliation_ror": "https://ror.org/04qk6pt94",
         "openalex_name": "Cogan Shimizu",
         "openalex_page": "https://openalex.org/A5073404100",
         "orcid": "https://orcid.org/0000-0003-4283-8701",
         "organiser_affiliation": "Wright State University",
         "organiser_country": "US",
         "organiser_name": "Cogan Shimizu",
         "track_name": "Resource"
        },
        {
         "openalex_name": "Angelo A. Salatino",
         "openalex_page": "https://openalex.org/A5074395069",
         "orcid": "https://orcid.org/0000-0002-4763-3943",
         "organiser_affiliation": "KMi, The Open University",
         "organiser_country": "UK",
         "organiser_name": "Angelo Salatino",
         "track_name": "Resource"
        },
        {
         "affiliation_ror": "https://ror.org/02kkvpp62",
         "openalex_name": "Maribel Acosta",
         "openalex_page": "https://openalex.org/A5091892854",
         "orcid": "https://orcid.org/0000-0002-1209-2868",
         "organiser_affiliation": "Technical University of Munich",
         "organiser_country": "Germany",
         "organiser_name": "Maribel Acosta",
         "track_name": "In-Use"
        },
        {
         "openalex_name": "Andrea Giovanni Nuzzolese",
         "openalex_page": "https://openalex.org/A5035126139",
         "orcid": "https://orcid.org/0000-0003-2928-9496",
         "organiser_affiliation": "CNR - Institute of Cognitive Sciences and Technologies",
         "organiser_country": "Italy",
         "organiser_name": "Andrea Giovanni Nuzzolese",
         "track_name": "In-Use"
        },
        {
         "affiliation_ror": "https://ror.org/01rxvg760",
         "openalex_name": "Gong Cheng",
         "openalex_page": "https://openalex.org/A5012491649",
         "orcid": "https://orcid.org/0000-0001-9322-9354",
         "organiser_affiliation": "Nanjing University",
         "organiser_country": "China",
         "organiser_name": "Gong Cheng",
         "track_name": "Posters and Demos"
        },
        {
         "affiliation_ror": "https://ror.org/006hf6230",
         "openalex_name": "Shenghui Wang",
         "openalex_page": "https://openalex.org/A5065278736",
         "orcid": "https://orcid.org/0000-0003-0583-6969",
         "organiser_affiliation": "University of Twente",
         "organiser_country": "The Netherlands",
         "organiser_name": "Shenghui Wang",
         "track_name": "Posters and Demos"
        },
        {
         "affiliation_ror": "https://ror.org/03taz7m60",
         "openalex_name": "Mayank Kejriwal",
         "openalex_page": "https://openalex.org/A5074197492",
         "orcid": "https://orcid.org/0000-0001-5988-8305",
         "organiser_affiliation": "University of Southern California",
         "organiser_country": "United States",
         "organiser_name": "Mayank Kejriwal",
         "track_name": "Challenges"
        },
        {
         "openalex_name": "Luís Silva",
         "openalex_page": "https://openalex.org/A5016662553",
         "orcid": "https://orcid.org/0000-0002-3434-6056",
         "organiser_affiliation": "Upwork",
         "organiser_country": "United States",
         "organiser_name": "Pablo Mendes",
         "track_name": "Challenges"
        },
        {
         "affiliation_ror": "https://ror.org/01ynf4891",
         "openalex_name": "Blerina Spahiu",
         "openalex_page": "https://openalex.org/A5088767562",
         "orcid": "https://orcid.org/0000-0002-6958-8215",
         "organiser_affiliation": "University of Milano-Bicocca",
         "organiser_country": "Italy",
         "organiser_name": "Blerina Spahiu",
         "track_name": "Workshops and Tutorials"
        },
        {
         "openalex_name": "Juan Sequeda",
         "openalex_page": "https://openalex.org/A5014287041",
         "orcid": "https://orcid.org/0000-0003-3112-9299",
         "organiser_affiliation": "data.world",
         "organiser_country": "USA",
         "organiser_name": "Juan Sequeda",
         "track_name": "Workshops and Tutorials"
        },
        {
         "affiliation_ror": "https://ror.org/0265w5591",
         "openalex_name": "Oktie Hassanzadeh",
         "openalex_page": "https://openalex.org/A5068065546",
         "orcid": "https://orcid.org/0000-0001-5307-9857",
         "organiser_affiliation": "IBM Research",
         "organiser_country": "US",
         "organiser_name": "Oktie Hassanzadeh",
         "track_name": "Industry"
        },
        {
         "affiliation_ror": "https://ror.org/046bfkz44",
         "openalex_name": "Irene Celino",
         "openalex_page": "https://openalex.org/A5054444380",
         "orcid": "https://orcid.org/0000-0001-9962-7193",
         "organiser_affiliation": "Cefriel",
         "organiser_country": "Italy",
         "organiser_name": "Irene Celino",
         "track_name": "Industry"
        },
        {
         "affiliation_ror": "https://ror.org/02crff812",
         "openalex_name": "Abraham Bernstein",
         "openalex_page": "https://openalex.org/A5073592405",
         "orcid": "https://orcid.org/0000-0002-0128-4602",
         "organiser_affiliation": "University of Zurich",
         "organiser_country": "Switzerland",
         "organiser_name": "Abraham Bernstein",
         "track_name": "Doctoral Consortium"
        },
        {
         "openalex_name": "Natasha Noy",
         "openalex_page": "https://openalex.org/A5041421536",
         "orcid": "https://orcid.org/0000-0002-7437-0624",
         "organiser_affiliation": "Google Research",
         "organiser_country": "US",
         "organiser_name": "Natasha Noy",
         "track_name": "Doctoral Consortium"
        }
       ]
      },
      "text/plain": [
       "<IPython.core.display.JSON object>"
      ]
     },
     "execution_count": 12,
     "metadata": {
      "application/json": {
       "expanded": false,
       "root": "root"
      }
     },
     "output_type": "execute_result"
    }
   ],
   "source": [
    "JSON(result)"
   ]
  },
  {
   "cell_type": "markdown",
   "id": "084fca2a-9fef-48ee-bf1c-ecf88ebd26b4",
   "metadata": {},
   "source": [
    "# Find Event on major databases"
   ]
  },
  {
   "cell_type": "code",
   "execution_count": 18,
   "id": "87927356-2d18-432b-b7f9-87fb691f3bcf",
   "metadata": {},
   "outputs": [],
   "source": [
    "from sentence_transformers import SentenceTransformer\n",
    "import faiss  \n",
    "import pickle\n",
    "import urllib.parse\n",
    "\n",
    "# import re\n",
    "# regex = r'(\\d+st)|(\\d+nd)|(\\d+rd)|(\\d+th)'\n",
    "# result = re.sub(regex, \"\", result[\"event_name\"], 0, re.MULTILINE | re.IGNORECASE)\n",
    "\n",
    "# Load a pretrained Sentence Transformer model\n",
    "model = SentenceTransformer(\"all-MiniLM-L6-v2\")\n",
    "embeddings = model.encode([result[\"conference_series\"]])"
   ]
  },
  {
   "cell_type": "code",
   "execution_count": 19,
   "id": "f8ca00c2-a15b-4111-acfe-d1f275cf590e",
   "metadata": {},
   "outputs": [
    {
     "name": "stdout",
     "output_type": "stream",
     "text": [
      "International Semantic Web Conference (ISWC)\n",
      "semweb\n",
      "https://dblp.org/streams/conf/semweb\n"
     ]
    }
   ],
   "source": [
    "with open('DBLP.pickle', 'rb') as handle:\n",
    "    dblp_confs = pickle.load(handle)\n",
    "\n",
    "D, I = dblp_confs[\"index\"].search(embeddings, k=1)\n",
    "if D[0][0] <= 0.4:\n",
    "    this_conf = dblp_confs[\"sentences\"][I[0][0]]\n",
    "    this_acronym = dblp_confs[\"confs\"][this_conf]\n",
    "    print(this_conf)\n",
    "    print(this_acronym)\n",
    "    print(f\"https://dblp.org/streams/conf/{urllib.parse.quote(this_acronym, safe='')}\")"
   ]
  },
  {
   "cell_type": "code",
   "execution_count": 21,
   "id": "cf2493b9-7f89-4b27-ae5c-9b32e0bce559",
   "metadata": {},
   "outputs": [
    {
     "name": "stdout",
     "output_type": "stream",
     "text": [
      "International Semantic Web Conference (ISWC)\n",
      "semweb\n",
      "http://aida-dashboard.unica.it:8080/cs/conference/International%20Semantic%20Web%20Conference%20%28ISWC%29\n"
     ]
    }
   ],
   "source": [
    "with open('AIDA.pickle', 'rb') as handle:\n",
    "    aida_confs = pickle.load(handle)\n",
    "\n",
    "D, I = aida_confs[\"index\"].search(embeddings, k=1)\n",
    "if D[0][0] <= 0.4:\n",
    "    this_conf_aida = aida_confs[\"sentences\"][I[0][0]]\n",
    "    this_acronym_aida = aida_confs[\"confs\"][this_conf_aida]\n",
    "    print(this_conf_aida)\n",
    "    print(this_acronym_aida)\n",
    "    print(f\"http://aida-dashboard.unica.it:8080/cs/conference/{urllib.parse.quote(this_conf_aida, safe='')}\")"
   ]
  },
  {
   "cell_type": "code",
   "execution_count": null,
   "id": "27986642-7dac-436b-8e2e-4b3e503ed211",
   "metadata": {},
   "outputs": [],
   "source": []
  }
 ],
 "metadata": {
  "kernelspec": {
   "display_name": "Python 3 (ipykernel)",
   "language": "python",
   "name": "python3"
  },
  "language_info": {
   "codemirror_mode": {
    "name": "ipython",
    "version": 3
   },
   "file_extension": ".py",
   "mimetype": "text/x-python",
   "name": "python",
   "nbconvert_exporter": "python",
   "pygments_lexer": "ipython3",
   "version": "3.8.20"
  }
 },
 "nbformat": 4,
 "nbformat_minor": 5
}
